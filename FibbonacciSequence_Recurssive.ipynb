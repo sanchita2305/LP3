{
  "nbformat": 4,
  "nbformat_minor": 0,
  "metadata": {
    "colab": {
      "provenance": [],
      "authorship_tag": "ABX9TyNRkvmF2ppOcZeYdCsNb8DZ",
      "include_colab_link": true
    },
    "kernelspec": {
      "name": "python3",
      "display_name": "Python 3"
    },
    "language_info": {
      "name": "python"
    }
  },
  "cells": [
    {
      "cell_type": "markdown",
      "metadata": {
        "id": "view-in-github",
        "colab_type": "text"
      },
      "source": [
        "<a href=\"https://colab.research.google.com/github/sanchita2305/LP3/blob/main/FibbonacciSequence_Recurssive.ipynb\" target=\"_parent\"><img src=\"https://colab.research.google.com/assets/colab-badge.svg\" alt=\"Open In Colab\"/></a>"
      ]
    },
    {
      "cell_type": "code",
      "execution_count": null,
      "metadata": {
        "colab": {
          "base_uri": "https://localhost:8080/"
        },
        "id": "QfXmE6quBqFe",
        "outputId": "0c52c755-1aea-4bd8-bb8c-41385cad438a"
      },
      "outputs": [
        {
          "output_type": "stream",
          "name": "stdout",
          "text": [
            "Plese enter a positive integer10\n",
            "Fibonacci sequence:\n",
            "0\n",
            "1\n",
            "1\n",
            "2\n",
            "3\n",
            "5\n",
            "8\n",
            "13\n",
            "21\n",
            "34\n"
          ]
        }
      ],
      "source": [
        "def recur_fibo(n):\n",
        "    if n <= 1:\n",
        "        return n\n",
        "    else:\n",
        "        return(recur_fibo(n-1) + recur_fibo(n-2))\n",
        "nterms =int(input(\"Plese enter a positive integer\"))\n",
        "# check if the number of terms is validif nterms <= 0:\n",
        "print(\"Fibonacci sequence:\")\n",
        "for i in range(nterms):\n",
        "    print(recur_fibo(i))\n"
      ]
    }
  ]
}