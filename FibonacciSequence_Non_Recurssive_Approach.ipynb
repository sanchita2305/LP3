{
  "nbformat": 4,
  "nbformat_minor": 0,
  "metadata": {
    "colab": {
      "provenance": [],
      "authorship_tag": "ABX9TyMvbFd/EUV+LSiXHlaHv42W",
      "include_colab_link": true
    },
    "kernelspec": {
      "name": "python3",
      "display_name": "Python 3"
    },
    "language_info": {
      "name": "python"
    }
  },
  "cells": [
    {
      "cell_type": "markdown",
      "metadata": {
        "id": "view-in-github",
        "colab_type": "text"
      },
      "source": [
        "<a href=\"https://colab.research.google.com/github/sanchita2305/LP3/blob/main/FibonacciSequence_Non_Recurssive_Approach.ipynb\" target=\"_parent\"><img src=\"https://colab.research.google.com/assets/colab-badge.svg\" alt=\"Open In Colab\"/></a>"
      ]
    },
    {
      "cell_type": "code",
      "execution_count": null,
      "metadata": {
        "colab": {
          "base_uri": "https://localhost:8080/"
        },
        "id": "YTNJvyQk0jFz",
        "outputId": "429d6ee9-0222-4de0-d281-215af3e93352"
      },
      "outputs": [
        {
          "output_type": "stream",
          "name": "stdout",
          "text": [
            "Enter the first number of the fibonacci series... 0\n",
            "Enter the second number of the fibonacci series... 1\n",
            "Enter the number of terms... 10\n",
            "0 1\n",
            "The numbers in fibonacci series are : \n",
            "1\n",
            "2\n",
            "3\n",
            "5\n",
            "8\n",
            "13\n",
            "21\n",
            "34\n"
          ]
        }
      ],
      "source": [
        "\n",
        "first_num = int(input(\"Enter the first number of the fibonacci series... \"))\n",
        "second_num = int(input(\"Enter the second number of the fibonacci series... \"))\n",
        "num_of_terms = int(input(\"Enter the number of terms... \"))\n",
        "print(first_num,second_num)\n",
        "print(\"The numbers in fibonacci series are : \")\n",
        "while(num_of_terms-2):\n",
        "   third_num = first_num + second_num\n",
        "   first_num=second_num\n",
        "   second_num=third_num\n",
        "   print(third_num)\n",
        "   num_of_terms=num_of_terms-1\n",
        "\n",
        "\n",
        "\n"
      ]
    },
    {
      "cell_type": "code",
      "source": [],
      "metadata": {
        "id": "eECSi3-nBOGA"
      },
      "execution_count": null,
      "outputs": []
    },
    {
      "cell_type": "code",
      "source": [],
      "metadata": {
        "id": "BxKJBGuBAzga"
      },
      "execution_count": null,
      "outputs": []
    }
  ]
}