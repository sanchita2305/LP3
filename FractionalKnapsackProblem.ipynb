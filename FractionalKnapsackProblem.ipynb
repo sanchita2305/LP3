{
  "nbformat": 4,
  "nbformat_minor": 0,
  "metadata": {
    "colab": {
      "provenance": [],
      "authorship_tag": "ABX9TyMKOamZbNyLjmBoOKtNKQ5T",
      "include_colab_link": true
    },
    "kernelspec": {
      "name": "python3",
      "display_name": "Python 3"
    },
    "language_info": {
      "name": "python"
    }
  },
  "cells": [
    {
      "cell_type": "markdown",
      "metadata": {
        "id": "view-in-github",
        "colab_type": "text"
      },
      "source": [
        "<a href=\"https://colab.research.google.com/github/sanchita2305/LP3/blob/main/FractionalKnapsackProblem.ipynb\" target=\"_parent\"><img src=\"https://colab.research.google.com/assets/colab-badge.svg\" alt=\"Open In Colab\"/></a>"
      ]
    },
    {
      "cell_type": "code",
      "execution_count": null,
      "metadata": {
        "colab": {
          "base_uri": "https://localhost:8080/"
        },
        "id": "RraUkxWf97Mb",
        "outputId": "0d126fb8-33c3-4271-aeed-db975dee3044"
      },
      "outputs": [
        {
          "output_type": "stream",
          "name": "stdout",
          "text": [
            "240.0\n"
          ]
        }
      ],
      "source": [
        "class Item:\n",
        "    def __init__(self, value, weight):\n",
        "        self.value = value\n",
        "        self.weight = weight\n",
        "\n",
        "def fractionalKnapsack(W, arr):\n",
        "    arr.sort(key=lambda x: (x.value/x.weight), reverse=True)\n",
        "    finalvalue = 0.0\n",
        "    for item in arr:\n",
        "        if item.weight <= W:\n",
        "            W -= item.weight\n",
        "            finalvalue += item.value\n",
        "        else:\n",
        "            finalvalue += item.value * W / item.weight\n",
        "            break\n",
        "\n",
        "        \n",
        "# Returning final value\n",
        "    return finalvalue\n",
        "\n",
        "if __name__ == \"__main__\":\n",
        "    W = 50\n",
        "    arr = [Item(60, 10), Item(100, 20), Item(120, 30)]\n",
        "    max_val = fractionalKnapsack(W, arr)\n",
        "    print(max_val)"
      ]
    }
  ]
}