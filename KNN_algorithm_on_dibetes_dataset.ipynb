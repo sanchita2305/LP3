{
  "nbformat": 4,
  "nbformat_minor": 0,
  "metadata": {
    "colab": {
      "provenance": [],
      "authorship_tag": "ABX9TyM/XdKo9CyK45C45eOo0qdn",
      "include_colab_link": true
    },
    "kernelspec": {
      "name": "python3",
      "display_name": "Python 3"
    },
    "language_info": {
      "name": "python"
    }
  },
  "cells": [
    {
      "cell_type": "markdown",
      "metadata": {
        "id": "view-in-github",
        "colab_type": "text"
      },
      "source": [
        "<a href=\"https://colab.research.google.com/github/sanchita2305/LP3/blob/main/KNN_algorithm_on_dibetes_dataset.ipynb\" target=\"_parent\"><img src=\"https://colab.research.google.com/assets/colab-badge.svg\" alt=\"Open In Colab\"/></a>"
      ]
    },
    {
      "cell_type": "code",
      "execution_count": null,
      "metadata": {
        "id": "lGm-fMGXxQjB"
      },
      "outputs": [],
      "source": [
        "#KNN ALGORITHM ON DIBETES DATASET"
      ]
    },
    {
      "cell_type": "code",
      "source": [
        "import pandas as pd\n",
        "import numpy as np\n",
        "import seaborn as sns\n",
        "import matplotlib.pyplot as plt\n",
        "%matplotlib inline\n",
        "import warnings\n",
        "warnings.filterwarnings('ignore')\n",
        "from sklearn.model_selection import train_test_split\n",
        "from sklearn.svm import SVC\n",
        "from sklearn import metrics"
      ],
      "metadata": {
        "id": "jmtzyuJ7xYLz"
      },
      "execution_count": null,
      "outputs": []
    },
    {
      "cell_type": "code",
      "source": [
        "df=pd.read_csv('diabetes.csv')"
      ],
      "metadata": {
        "id": "W9_NlsgOxbqU"
      },
      "execution_count": null,
      "outputs": []
    },
    {
      "cell_type": "code",
      "source": [
        "df.columns"
      ],
      "metadata": {
        "colab": {
          "base_uri": "https://localhost:8080/"
        },
        "id": "59uIAuEsxd2e",
        "outputId": "e316a09f-c1fb-4d43-d021-ae0f98063d49"
      },
      "execution_count": null,
      "outputs": [
        {
          "output_type": "execute_result",
          "data": {
            "text/plain": [
              "Index(['Pregnancies', 'Glucose', 'BloodPressure', 'SkinThickness', 'Insulin',\n",
              "       'BMI', 'Pedigree', 'Age', 'Outcome'],\n",
              "      dtype='object')"
            ]
          },
          "metadata": {},
          "execution_count": 4
        }
      ]
    },
    {
      "cell_type": "code",
      "source": [
        "#CHECK FOR ALL NULL VALUES,IF PRESENT REMOVE NULL VALUES FROM THE DATASET"
      ],
      "metadata": {
        "id": "IwoCd25mxxON"
      },
      "execution_count": null,
      "outputs": []
    },
    {
      "cell_type": "code",
      "source": [
        "df.isnull().sum()"
      ],
      "metadata": {
        "colab": {
          "base_uri": "https://localhost:8080/"
        },
        "id": "Pb0ZDsxAxpaa",
        "outputId": "8e808dd9-4ec3-46bd-afe7-7e2ece518ba5"
      },
      "execution_count": null,
      "outputs": [
        {
          "output_type": "execute_result",
          "data": {
            "text/plain": [
              "Pregnancies      0\n",
              "Glucose          0\n",
              "BloodPressure    0\n",
              "SkinThickness    0\n",
              "Insulin          0\n",
              "BMI              0\n",
              "Pedigree         0\n",
              "Age              0\n",
              "Outcome          0\n",
              "dtype: int64"
            ]
          },
          "metadata": {},
          "execution_count": 5
        }
      ]
    },
    {
      "cell_type": "code",
      "source": [
        "#OUTCOME IS THE LABEL/TARGET, OTHER COLUMNS ARE FEATURES"
      ],
      "metadata": {
        "id": "tYLMTmAox65T"
      },
      "execution_count": null,
      "outputs": []
    },
    {
      "cell_type": "code",
      "source": [
        "X = df.drop('Outcome',axis = 1)\n",
        "y = df['Outcome']"
      ],
      "metadata": {
        "id": "jLHrL27uyEKq"
      },
      "execution_count": null,
      "outputs": []
    },
    {
      "cell_type": "code",
      "source": [
        "from sklearn.preprocessing import scale\n",
        "X = scale(X)\n",
        "# split into train and test\n",
        "X_train, X_test, y_train, y_test = train_test_split(X, y, test_size = 0.3, random_state = 42)"
      ],
      "metadata": {
        "id": "1kdbSgpayNo9"
      },
      "execution_count": null,
      "outputs": []
    },
    {
      "cell_type": "code",
      "source": [
        "from sklearn.neighbors import KNeighborsClassifier\n",
        "knn = KNeighborsClassifier(n_neighbors=7)\n",
        " \n",
        "knn.fit(X_train, y_train)\n",
        "y_pred = knn.predict(X_test)"
      ],
      "metadata": {
        "id": "yO-9nEJWyRfG"
      },
      "execution_count": null,
      "outputs": []
    },
    {
      "cell_type": "code",
      "source": [
        "print(\"Confusion matrix: \")\n",
        "cs = metrics.confusion_matrix(y_test,y_pred)\n",
        "print(cs)"
      ],
      "metadata": {
        "colab": {
          "base_uri": "https://localhost:8080/"
        },
        "id": "TJvbWXBfyVC4",
        "outputId": "e04c92ad-58e6-4fdd-8b98-08c86c96d750"
      },
      "execution_count": null,
      "outputs": [
        {
          "output_type": "stream",
          "name": "stdout",
          "text": [
            "Confusion matrix: \n",
            "[[123  28]\n",
            " [ 37  43]]\n"
          ]
        }
      ]
    },
    {
      "cell_type": "code",
      "source": [
        "#CLASSIFICATION ERROR RATE:PROPORTION OF INSTANCES MISCLASSIFIED OVER THE WHOLE SET OF INSTANCES.ERROR RATE IS CALCULATED AS THE TOTAL NUMBER OF TWO INCORRECT PREDICTIONS(FN+FP)DIVIDED BY THE TOTALNUMBER OF A DATASET(EXAMPLES IN THE DATASET)\n",
        "\n",
        "#ALSO ERROR_RATE=1-ACCCURACY"
      ],
      "metadata": {
        "id": "zopEJIjGyYLA"
      },
      "execution_count": null,
      "outputs": []
    },
    {
      "cell_type": "code",
      "source": [
        "total_misclassified = cs[0,1] + cs[1,0]\n",
        "print(total_misclassified)\n",
        "total_examples = cs[0,0]+cs[0,1]+cs[1,0]+cs[1,1]\n",
        "print(total_examples)\n",
        "print(\"Error rate\",total_misclassified/total_examples)\n",
        "print(\"Error rate \",1-metrics.accuracy_score(y_test,y_pred))"
      ],
      "metadata": {
        "colab": {
          "base_uri": "https://localhost:8080/"
        },
        "id": "y7HixnIAy8U1",
        "outputId": "d7488a41-230a-4a3f-c713-713ca474a694"
      },
      "execution_count": null,
      "outputs": [
        {
          "output_type": "stream",
          "name": "stdout",
          "text": [
            "65\n",
            "231\n",
            "Error rate 0.2813852813852814\n",
            "Error rate  0.2813852813852814\n"
          ]
        }
      ]
    },
    {
      "cell_type": "code",
      "source": [
        "print(\"Precision score\",metrics.precision_score(y_test,y_pred))"
      ],
      "metadata": {
        "colab": {
          "base_uri": "https://localhost:8080/"
        },
        "id": "lqnAnoUDy_0L",
        "outputId": "d006c2f1-a0a4-42e0-b0c2-b3bc9648308e"
      },
      "execution_count": null,
      "outputs": [
        {
          "output_type": "stream",
          "name": "stdout",
          "text": [
            "Precision score 0.6056338028169014\n"
          ]
        }
      ]
    },
    {
      "cell_type": "code",
      "source": [
        "print(\"Classification report \",metrics.classification_report(y_test,y_pred))"
      ],
      "metadata": {
        "colab": {
          "base_uri": "https://localhost:8080/"
        },
        "id": "QQn0eMGPzCdz",
        "outputId": "a4d8e2db-29ba-4f46-90bf-7d75160d981a"
      },
      "execution_count": null,
      "outputs": [
        {
          "output_type": "stream",
          "name": "stdout",
          "text": [
            "Classification report                precision    recall  f1-score   support\n",
            "\n",
            "           0       0.77      0.81      0.79       151\n",
            "           1       0.61      0.54      0.57        80\n",
            "\n",
            "    accuracy                           0.72       231\n",
            "   macro avg       0.69      0.68      0.68       231\n",
            "weighted avg       0.71      0.72      0.71       231\n",
            "\n"
          ]
        }
      ]
    },
    {
      "cell_type": "code",
      "source": [],
      "metadata": {
        "id": "5xqOBXdnzEcg"
      },
      "execution_count": null,
      "outputs": []
    },
    {
      "cell_type": "code",
      "source": [],
      "metadata": {
        "id": "5f7UZn3ZzKK_"
      },
      "execution_count": null,
      "outputs": []
    }
  ]
}