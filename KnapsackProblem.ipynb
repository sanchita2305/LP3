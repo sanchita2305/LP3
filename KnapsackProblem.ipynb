{
  "nbformat": 4,
  "nbformat_minor": 0,
  "metadata": {
    "colab": {
      "provenance": [],
      "authorship_tag": "ABX9TyPzBbSvmOzpKsEC1sl5jFjY",
      "include_colab_link": true
    },
    "kernelspec": {
      "name": "python3",
      "display_name": "Python 3"
    },
    "language_info": {
      "name": "python"
    }
  },
  "cells": [
    {
      "cell_type": "markdown",
      "metadata": {
        "id": "view-in-github",
        "colab_type": "text"
      },
      "source": [
        "<a href=\"https://colab.research.google.com/github/sanchita2305/LP3/blob/main/KnapsackProblem.ipynb\" target=\"_parent\"><img src=\"https://colab.research.google.com/assets/colab-badge.svg\" alt=\"Open In Colab\"/></a>"
      ]
    },
    {
      "cell_type": "code",
      "execution_count": null,
      "metadata": {
        "colab": {
          "base_uri": "https://localhost:8080/"
        },
        "id": "XQK7JU8R-UOL",
        "outputId": "45f841fa-555a-47c0-eac5-f8fb5079beb9"
      },
      "outputs": [
        {
          "output_type": "stream",
          "name": "stdout",
          "text": [
            "220\n"
          ]
        }
      ],
      "source": [
        "def knapSack(W, wt, val, n):\n",
        "    K = [[0 for x in range(W + 1)] for x in range(n + 1)]\n",
        "\n",
        "    for i in range(n + 1):\n",
        "        for w in range(W + 1):\n",
        "            if i == 0 or w == 0:\n",
        "                K[i][w] = 0\n",
        "            elif wt[i-1] <= w:\n",
        "                K[i][w] = max(val[i-1]+ K[i-1][w-wt[i-1]],K[i-1][w])\n",
        "            else:\n",
        "                K[i][w] = K[i-1][w]\n",
        "    return K[n][W]\n",
        "\n",
        "\n",
        "# Driver code\n",
        "val = [60, 100, 120]\n",
        "wt = [10, 20, 30]\n",
        "W = 50\n",
        "n = len(val)\n",
        "print(knapSack(W, wt, val, n))\n"
      ]
    }
  ]
}