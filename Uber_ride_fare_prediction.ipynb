{
  "nbformat": 4,
  "nbformat_minor": 0,
  "metadata": {
    "colab": {
      "provenance": [],
      "authorship_tag": "ABX9TyPNIccVkFvL82dlll6LtzOe",
      "include_colab_link": true
    },
    "kernelspec": {
      "name": "python3",
      "display_name": "Python 3"
    },
    "language_info": {
      "name": "python"
    }
  },
  "cells": [
    {
      "cell_type": "markdown",
      "metadata": {
        "id": "view-in-github",
        "colab_type": "text"
      },
      "source": [
        "<a href=\"https://colab.research.google.com/github/sanchita2305/LP3/blob/main/Uber_ride_fare_prediction.ipynb\" target=\"_parent\"><img src=\"https://colab.research.google.com/assets/colab-badge.svg\" alt=\"Open In Colab\"/></a>"
      ]
    },
    {
      "cell_type": "code",
      "execution_count": null,
      "metadata": {
        "id": "B_9DWGoVCzMB"
      },
      "outputs": [],
      "source": [
        "import pandas as pd\n",
        "import numpy as np\n",
        "import seaborn as sns\n",
        "import matplotlib.pyplot as p"
      ]
    },
    {
      "cell_type": "code",
      "source": [
        "df = pd.read_csv(\"uber.csv\")\n"
      ],
      "metadata": {
        "id": "Tr3tywm3Ef0x"
      },
      "execution_count": null,
      "outputs": []
    },
    {
      "cell_type": "code",
      "source": [
        "df.head()\n",
        "df.info() #To get the required information of the dataset\n",
        "df.columns #TO get number of columns in the dataset\n",
        "df = df.drop(['Unnamed: 0', 'key'], axis= 1) #To drop unnamed column as it isn't required\n",
        "df.head()\n",
        "df.shape #To get the total (Rows,Columns)\n",
        "df.dtypes #To get the type of each column\n",
        "df.info()\n",
        "df.describe() #To get statistics of each columns\n"
      ],
      "metadata": {
        "colab": {
          "base_uri": "https://localhost:8080/",
          "height": 821
        },
        "id": "t3aXcTm6FGkm",
        "outputId": "4558597b-3a1f-41b0-b44c-d931c373bbce"
      },
      "execution_count": null,
      "outputs": [
        {
          "output_type": "stream",
          "name": "stdout",
          "text": [
            "<class 'pandas.core.frame.DataFrame'>\n",
            "RangeIndex: 200000 entries, 0 to 199999\n",
            "Data columns (total 9 columns):\n",
            " #   Column             Non-Null Count   Dtype  \n",
            "---  ------             --------------   -----  \n",
            " 0   Unnamed: 0         200000 non-null  int64  \n",
            " 1   key                200000 non-null  object \n",
            " 2   fare_amount        200000 non-null  float64\n",
            " 3   pickup_datetime    200000 non-null  object \n",
            " 4   pickup_longitude   200000 non-null  float64\n",
            " 5   pickup_latitude    200000 non-null  float64\n",
            " 6   dropoff_longitude  199999 non-null  float64\n",
            " 7   dropoff_latitude   199999 non-null  float64\n",
            " 8   passenger_count    200000 non-null  int64  \n",
            "dtypes: float64(5), int64(2), object(2)\n",
            "memory usage: 13.7+ MB\n",
            "<class 'pandas.core.frame.DataFrame'>\n",
            "RangeIndex: 200000 entries, 0 to 199999\n",
            "Data columns (total 7 columns):\n",
            " #   Column             Non-Null Count   Dtype  \n",
            "---  ------             --------------   -----  \n",
            " 0   fare_amount        200000 non-null  float64\n",
            " 1   pickup_datetime    200000 non-null  object \n",
            " 2   pickup_longitude   200000 non-null  float64\n",
            " 3   pickup_latitude    200000 non-null  float64\n",
            " 4   dropoff_longitude  199999 non-null  float64\n",
            " 5   dropoff_latitude   199999 non-null  float64\n",
            " 6   passenger_count    200000 non-null  int64  \n",
            "dtypes: float64(5), int64(1), object(1)\n",
            "memory usage: 10.7+ MB\n"
          ]
        },
        {
          "output_type": "execute_result",
          "data": {
            "text/plain": [
              "         fare_amount  pickup_longitude  pickup_latitude  dropoff_longitude  \\\n",
              "count  200000.000000     200000.000000    200000.000000      199999.000000   \n",
              "mean       11.359955        -72.527638        39.935885         -72.525292   \n",
              "std         9.901776         11.437787         7.720539          13.117408   \n",
              "min       -52.000000      -1340.648410       -74.015515       -3356.666300   \n",
              "25%         6.000000        -73.992065        40.734796         -73.991407   \n",
              "50%         8.500000        -73.981823        40.752592         -73.980093   \n",
              "75%        12.500000        -73.967154        40.767158         -73.963658   \n",
              "max       499.000000         57.418457      1644.421482        1153.572603   \n",
              "\n",
              "       dropoff_latitude  passenger_count  \n",
              "count     199999.000000    200000.000000  \n",
              "mean          39.923890         1.684535  \n",
              "std            6.794829         1.385997  \n",
              "min         -881.985513         0.000000  \n",
              "25%           40.733823         1.000000  \n",
              "50%           40.753042         1.000000  \n",
              "75%           40.768001         2.000000  \n",
              "max          872.697628       208.000000  "
            ],
            "text/html": [
              "\n",
              "  <div id=\"df-e687dafe-26d7-4bfb-987d-66eae1fc80ac\">\n",
              "    <div class=\"colab-df-container\">\n",
              "      <div>\n",
              "<style scoped>\n",
              "    .dataframe tbody tr th:only-of-type {\n",
              "        vertical-align: middle;\n",
              "    }\n",
              "\n",
              "    .dataframe tbody tr th {\n",
              "        vertical-align: top;\n",
              "    }\n",
              "\n",
              "    .dataframe thead th {\n",
              "        text-align: right;\n",
              "    }\n",
              "</style>\n",
              "<table border=\"1\" class=\"dataframe\">\n",
              "  <thead>\n",
              "    <tr style=\"text-align: right;\">\n",
              "      <th></th>\n",
              "      <th>fare_amount</th>\n",
              "      <th>pickup_longitude</th>\n",
              "      <th>pickup_latitude</th>\n",
              "      <th>dropoff_longitude</th>\n",
              "      <th>dropoff_latitude</th>\n",
              "      <th>passenger_count</th>\n",
              "    </tr>\n",
              "  </thead>\n",
              "  <tbody>\n",
              "    <tr>\n",
              "      <th>count</th>\n",
              "      <td>200000.000000</td>\n",
              "      <td>200000.000000</td>\n",
              "      <td>200000.000000</td>\n",
              "      <td>199999.000000</td>\n",
              "      <td>199999.000000</td>\n",
              "      <td>200000.000000</td>\n",
              "    </tr>\n",
              "    <tr>\n",
              "      <th>mean</th>\n",
              "      <td>11.359955</td>\n",
              "      <td>-72.527638</td>\n",
              "      <td>39.935885</td>\n",
              "      <td>-72.525292</td>\n",
              "      <td>39.923890</td>\n",
              "      <td>1.684535</td>\n",
              "    </tr>\n",
              "    <tr>\n",
              "      <th>std</th>\n",
              "      <td>9.901776</td>\n",
              "      <td>11.437787</td>\n",
              "      <td>7.720539</td>\n",
              "      <td>13.117408</td>\n",
              "      <td>6.794829</td>\n",
              "      <td>1.385997</td>\n",
              "    </tr>\n",
              "    <tr>\n",
              "      <th>min</th>\n",
              "      <td>-52.000000</td>\n",
              "      <td>-1340.648410</td>\n",
              "      <td>-74.015515</td>\n",
              "      <td>-3356.666300</td>\n",
              "      <td>-881.985513</td>\n",
              "      <td>0.000000</td>\n",
              "    </tr>\n",
              "    <tr>\n",
              "      <th>25%</th>\n",
              "      <td>6.000000</td>\n",
              "      <td>-73.992065</td>\n",
              "      <td>40.734796</td>\n",
              "      <td>-73.991407</td>\n",
              "      <td>40.733823</td>\n",
              "      <td>1.000000</td>\n",
              "    </tr>\n",
              "    <tr>\n",
              "      <th>50%</th>\n",
              "      <td>8.500000</td>\n",
              "      <td>-73.981823</td>\n",
              "      <td>40.752592</td>\n",
              "      <td>-73.980093</td>\n",
              "      <td>40.753042</td>\n",
              "      <td>1.000000</td>\n",
              "    </tr>\n",
              "    <tr>\n",
              "      <th>75%</th>\n",
              "      <td>12.500000</td>\n",
              "      <td>-73.967154</td>\n",
              "      <td>40.767158</td>\n",
              "      <td>-73.963658</td>\n",
              "      <td>40.768001</td>\n",
              "      <td>2.000000</td>\n",
              "    </tr>\n",
              "    <tr>\n",
              "      <th>max</th>\n",
              "      <td>499.000000</td>\n",
              "      <td>57.418457</td>\n",
              "      <td>1644.421482</td>\n",
              "      <td>1153.572603</td>\n",
              "      <td>872.697628</td>\n",
              "      <td>208.000000</td>\n",
              "    </tr>\n",
              "  </tbody>\n",
              "</table>\n",
              "</div>\n",
              "      <button class=\"colab-df-convert\" onclick=\"convertToInteractive('df-e687dafe-26d7-4bfb-987d-66eae1fc80ac')\"\n",
              "              title=\"Convert this dataframe to an interactive table.\"\n",
              "              style=\"display:none;\">\n",
              "        \n",
              "  <svg xmlns=\"http://www.w3.org/2000/svg\" height=\"24px\"viewBox=\"0 0 24 24\"\n",
              "       width=\"24px\">\n",
              "    <path d=\"M0 0h24v24H0V0z\" fill=\"none\"/>\n",
              "    <path d=\"M18.56 5.44l.94 2.06.94-2.06 2.06-.94-2.06-.94-.94-2.06-.94 2.06-2.06.94zm-11 1L8.5 8.5l.94-2.06 2.06-.94-2.06-.94L8.5 2.5l-.94 2.06-2.06.94zm10 10l.94 2.06.94-2.06 2.06-.94-2.06-.94-.94-2.06-.94 2.06-2.06.94z\"/><path d=\"M17.41 7.96l-1.37-1.37c-.4-.4-.92-.59-1.43-.59-.52 0-1.04.2-1.43.59L10.3 9.45l-7.72 7.72c-.78.78-.78 2.05 0 2.83L4 21.41c.39.39.9.59 1.41.59.51 0 1.02-.2 1.41-.59l7.78-7.78 2.81-2.81c.8-.78.8-2.07 0-2.86zM5.41 20L4 18.59l7.72-7.72 1.47 1.35L5.41 20z\"/>\n",
              "  </svg>\n",
              "      </button>\n",
              "      \n",
              "  <style>\n",
              "    .colab-df-container {\n",
              "      display:flex;\n",
              "      flex-wrap:wrap;\n",
              "      gap: 12px;\n",
              "    }\n",
              "\n",
              "    .colab-df-convert {\n",
              "      background-color: #E8F0FE;\n",
              "      border: none;\n",
              "      border-radius: 50%;\n",
              "      cursor: pointer;\n",
              "      display: none;\n",
              "      fill: #1967D2;\n",
              "      height: 32px;\n",
              "      padding: 0 0 0 0;\n",
              "      width: 32px;\n",
              "    }\n",
              "\n",
              "    .colab-df-convert:hover {\n",
              "      background-color: #E2EBFA;\n",
              "      box-shadow: 0px 1px 2px rgba(60, 64, 67, 0.3), 0px 1px 3px 1px rgba(60, 64, 67, 0.15);\n",
              "      fill: #174EA6;\n",
              "    }\n",
              "\n",
              "    [theme=dark] .colab-df-convert {\n",
              "      background-color: #3B4455;\n",
              "      fill: #D2E3FC;\n",
              "    }\n",
              "\n",
              "    [theme=dark] .colab-df-convert:hover {\n",
              "      background-color: #434B5C;\n",
              "      box-shadow: 0px 1px 3px 1px rgba(0, 0, 0, 0.15);\n",
              "      filter: drop-shadow(0px 1px 2px rgba(0, 0, 0, 0.3));\n",
              "      fill: #FFFFFF;\n",
              "    }\n",
              "  </style>\n",
              "\n",
              "      <script>\n",
              "        const buttonEl =\n",
              "          document.querySelector('#df-e687dafe-26d7-4bfb-987d-66eae1fc80ac button.colab-df-convert');\n",
              "        buttonEl.style.display =\n",
              "          google.colab.kernel.accessAllowed ? 'block' : 'none';\n",
              "\n",
              "        async function convertToInteractive(key) {\n",
              "          const element = document.querySelector('#df-e687dafe-26d7-4bfb-987d-66eae1fc80ac');\n",
              "          const dataTable =\n",
              "            await google.colab.kernel.invokeFunction('convertToInteractive',\n",
              "                                                     [key], {});\n",
              "          if (!dataTable) return;\n",
              "\n",
              "          const docLinkHtml = 'Like what you see? Visit the ' +\n",
              "            '<a target=\"_blank\" href=https://colab.research.google.com/notebooks/data_table.ipynb>data table notebook</a>'\n",
              "            + ' to learn more about interactive tables.';\n",
              "          element.innerHTML = '';\n",
              "          dataTable['output_type'] = 'display_data';\n",
              "          await google.colab.output.renderOutput(dataTable, element);\n",
              "          const docLink = document.createElement('div');\n",
              "          docLink.innerHTML = docLinkHtml;\n",
              "          element.appendChild(docLink);\n",
              "        }\n",
              "      </script>\n",
              "    </div>\n",
              "  </div>\n",
              "  "
            ]
          },
          "metadata": {},
          "execution_count": 4
        }
      ]
    },
    {
      "cell_type": "code",
      "source": [
        "df.isnull().sum()\n"
      ],
      "metadata": {
        "colab": {
          "base_uri": "https://localhost:8080/"
        },
        "id": "OrSSzPedFMBd",
        "outputId": "5450dd14-6de5-442d-cbed-ab29776c1598"
      },
      "execution_count": null,
      "outputs": [
        {
          "output_type": "execute_result",
          "data": {
            "text/plain": [
              "fare_amount          0\n",
              "pickup_datetime      0\n",
              "pickup_longitude     0\n",
              "pickup_latitude      0\n",
              "dropoff_longitude    1\n",
              "dropoff_latitude     1\n",
              "passenger_count      0\n",
              "dtype: int64"
            ]
          },
          "metadata": {},
          "execution_count": 5
        }
      ]
    },
    {
      "cell_type": "code",
      "source": [
        "df['dropoff_latitude'].fillna(value=df['dropoff_latitude'].mean(),inplace = True)\n",
        "df['dropoff_longitude'].fillna(value=df['dropoff_longitude'].median(),inplace = True)"
      ],
      "metadata": {
        "id": "t3RuyAq6FQHm"
      },
      "execution_count": null,
      "outputs": []
    },
    {
      "cell_type": "code",
      "source": [
        "df.isnull().sum()\n"
      ],
      "metadata": {
        "colab": {
          "base_uri": "https://localhost:8080/"
        },
        "id": "SuOTvh0yFTuK",
        "outputId": "2a162df4-cfa5-465f-cfad-40689c6c91a1"
      },
      "execution_count": null,
      "outputs": [
        {
          "output_type": "execute_result",
          "data": {
            "text/plain": [
              "fare_amount          0\n",
              "pickup_datetime      0\n",
              "pickup_longitude     0\n",
              "pickup_latitude      0\n",
              "dropoff_longitude    0\n",
              "dropoff_latitude     0\n",
              "passenger_count      0\n",
              "dtype: int64"
            ]
          },
          "metadata": {},
          "execution_count": 8
        }
      ]
    },
    {
      "cell_type": "code",
      "source": [
        "df.dtypes"
      ],
      "metadata": {
        "colab": {
          "base_uri": "https://localhost:8080/"
        },
        "id": "ky8NwjjCFYhR",
        "outputId": "85fa94fa-2e99-48b8-b5b5-fee2929a51c8"
      },
      "execution_count": null,
      "outputs": [
        {
          "output_type": "execute_result",
          "data": {
            "text/plain": [
              "fare_amount          float64\n",
              "pickup_datetime       object\n",
              "pickup_longitude     float64\n",
              "pickup_latitude      float64\n",
              "dropoff_longitude    float64\n",
              "dropoff_latitude     float64\n",
              "passenger_count        int64\n",
              "dtype: object"
            ]
          },
          "metadata": {},
          "execution_count": 10
        }
      ]
    },
    {
      "cell_type": "code",
      "source": [
        "df.pickup_datetime = pd.to_datetime(df.pickup_datetime, errors='coerce')\n",
        "df.dtypes\n"
      ],
      "metadata": {
        "colab": {
          "base_uri": "https://localhost:8080/"
        },
        "id": "BBfm5TI6Fe4G",
        "outputId": "221adb70-b9d2-4f27-fb50-bfb6a1c5b940"
      },
      "execution_count": null,
      "outputs": [
        {
          "output_type": "execute_result",
          "data": {
            "text/plain": [
              "fare_amount                      float64\n",
              "pickup_datetime      datetime64[ns, UTC]\n",
              "pickup_longitude                 float64\n",
              "pickup_latitude                  float64\n",
              "dropoff_longitude                float64\n",
              "dropoff_latitude                 float64\n",
              "passenger_count                    int64\n",
              "dtype: object"
            ]
          },
          "metadata": {},
          "execution_count": 11
        }
      ]
    },
    {
      "cell_type": "code",
      "source": [
        "df= df.assign(hour = df.pickup_datetime.dt.hour,\n",
        " day= df.pickup_datetime.dt.day,\n",
        " month = df.pickup_datetime.dt.month,\n",
        " year = df.pickup_datetime.dt.year,\n",
        " dayofweek = df.pickup_datetime.dt.dayofweek)\n",
        "df.head()"
      ],
      "metadata": {
        "colab": {
          "base_uri": "https://localhost:8080/",
          "height": 206
        },
        "id": "K8fhlj_CFi21",
        "outputId": "db61f253-13a6-4e9b-ec60-5ad5d795e371"
      },
      "execution_count": null,
      "outputs": [
        {
          "output_type": "execute_result",
          "data": {
            "text/plain": [
              "   fare_amount           pickup_datetime  pickup_longitude  pickup_latitude  \\\n",
              "0          7.5 2015-05-07 19:52:06+00:00        -73.999817        40.738354   \n",
              "1          7.7 2009-07-17 20:04:56+00:00        -73.994355        40.728225   \n",
              "2         12.9 2009-08-24 21:45:00+00:00        -74.005043        40.740770   \n",
              "3          5.3 2009-06-26 08:22:21+00:00        -73.976124        40.790844   \n",
              "4         16.0 2014-08-28 17:47:00+00:00        -73.925023        40.744085   \n",
              "\n",
              "   dropoff_longitude  dropoff_latitude  passenger_count  hour  day  month  \\\n",
              "0         -73.999512         40.723217                1    19    7      5   \n",
              "1         -73.994710         40.750325                1    20   17      7   \n",
              "2         -73.962565         40.772647                1    21   24      8   \n",
              "3         -73.965316         40.803349                3     8   26      6   \n",
              "4         -73.973082         40.761247                5    17   28      8   \n",
              "\n",
              "   year  dayofweek  \n",
              "0  2015          3  \n",
              "1  2009          4  \n",
              "2  2009          0  \n",
              "3  2009          4  \n",
              "4  2014          3  "
            ],
            "text/html": [
              "\n",
              "  <div id=\"df-efc0f5dc-12eb-4a93-9a91-c14e04b9d2f3\">\n",
              "    <div class=\"colab-df-container\">\n",
              "      <div>\n",
              "<style scoped>\n",
              "    .dataframe tbody tr th:only-of-type {\n",
              "        vertical-align: middle;\n",
              "    }\n",
              "\n",
              "    .dataframe tbody tr th {\n",
              "        vertical-align: top;\n",
              "    }\n",
              "\n",
              "    .dataframe thead th {\n",
              "        text-align: right;\n",
              "    }\n",
              "</style>\n",
              "<table border=\"1\" class=\"dataframe\">\n",
              "  <thead>\n",
              "    <tr style=\"text-align: right;\">\n",
              "      <th></th>\n",
              "      <th>fare_amount</th>\n",
              "      <th>pickup_datetime</th>\n",
              "      <th>pickup_longitude</th>\n",
              "      <th>pickup_latitude</th>\n",
              "      <th>dropoff_longitude</th>\n",
              "      <th>dropoff_latitude</th>\n",
              "      <th>passenger_count</th>\n",
              "      <th>hour</th>\n",
              "      <th>day</th>\n",
              "      <th>month</th>\n",
              "      <th>year</th>\n",
              "      <th>dayofweek</th>\n",
              "    </tr>\n",
              "  </thead>\n",
              "  <tbody>\n",
              "    <tr>\n",
              "      <th>0</th>\n",
              "      <td>7.5</td>\n",
              "      <td>2015-05-07 19:52:06+00:00</td>\n",
              "      <td>-73.999817</td>\n",
              "      <td>40.738354</td>\n",
              "      <td>-73.999512</td>\n",
              "      <td>40.723217</td>\n",
              "      <td>1</td>\n",
              "      <td>19</td>\n",
              "      <td>7</td>\n",
              "      <td>5</td>\n",
              "      <td>2015</td>\n",
              "      <td>3</td>\n",
              "    </tr>\n",
              "    <tr>\n",
              "      <th>1</th>\n",
              "      <td>7.7</td>\n",
              "      <td>2009-07-17 20:04:56+00:00</td>\n",
              "      <td>-73.994355</td>\n",
              "      <td>40.728225</td>\n",
              "      <td>-73.994710</td>\n",
              "      <td>40.750325</td>\n",
              "      <td>1</td>\n",
              "      <td>20</td>\n",
              "      <td>17</td>\n",
              "      <td>7</td>\n",
              "      <td>2009</td>\n",
              "      <td>4</td>\n",
              "    </tr>\n",
              "    <tr>\n",
              "      <th>2</th>\n",
              "      <td>12.9</td>\n",
              "      <td>2009-08-24 21:45:00+00:00</td>\n",
              "      <td>-74.005043</td>\n",
              "      <td>40.740770</td>\n",
              "      <td>-73.962565</td>\n",
              "      <td>40.772647</td>\n",
              "      <td>1</td>\n",
              "      <td>21</td>\n",
              "      <td>24</td>\n",
              "      <td>8</td>\n",
              "      <td>2009</td>\n",
              "      <td>0</td>\n",
              "    </tr>\n",
              "    <tr>\n",
              "      <th>3</th>\n",
              "      <td>5.3</td>\n",
              "      <td>2009-06-26 08:22:21+00:00</td>\n",
              "      <td>-73.976124</td>\n",
              "      <td>40.790844</td>\n",
              "      <td>-73.965316</td>\n",
              "      <td>40.803349</td>\n",
              "      <td>3</td>\n",
              "      <td>8</td>\n",
              "      <td>26</td>\n",
              "      <td>6</td>\n",
              "      <td>2009</td>\n",
              "      <td>4</td>\n",
              "    </tr>\n",
              "    <tr>\n",
              "      <th>4</th>\n",
              "      <td>16.0</td>\n",
              "      <td>2014-08-28 17:47:00+00:00</td>\n",
              "      <td>-73.925023</td>\n",
              "      <td>40.744085</td>\n",
              "      <td>-73.973082</td>\n",
              "      <td>40.761247</td>\n",
              "      <td>5</td>\n",
              "      <td>17</td>\n",
              "      <td>28</td>\n",
              "      <td>8</td>\n",
              "      <td>2014</td>\n",
              "      <td>3</td>\n",
              "    </tr>\n",
              "  </tbody>\n",
              "</table>\n",
              "</div>\n",
              "      <button class=\"colab-df-convert\" onclick=\"convertToInteractive('df-efc0f5dc-12eb-4a93-9a91-c14e04b9d2f3')\"\n",
              "              title=\"Convert this dataframe to an interactive table.\"\n",
              "              style=\"display:none;\">\n",
              "        \n",
              "  <svg xmlns=\"http://www.w3.org/2000/svg\" height=\"24px\"viewBox=\"0 0 24 24\"\n",
              "       width=\"24px\">\n",
              "    <path d=\"M0 0h24v24H0V0z\" fill=\"none\"/>\n",
              "    <path d=\"M18.56 5.44l.94 2.06.94-2.06 2.06-.94-2.06-.94-.94-2.06-.94 2.06-2.06.94zm-11 1L8.5 8.5l.94-2.06 2.06-.94-2.06-.94L8.5 2.5l-.94 2.06-2.06.94zm10 10l.94 2.06.94-2.06 2.06-.94-2.06-.94-.94-2.06-.94 2.06-2.06.94z\"/><path d=\"M17.41 7.96l-1.37-1.37c-.4-.4-.92-.59-1.43-.59-.52 0-1.04.2-1.43.59L10.3 9.45l-7.72 7.72c-.78.78-.78 2.05 0 2.83L4 21.41c.39.39.9.59 1.41.59.51 0 1.02-.2 1.41-.59l7.78-7.78 2.81-2.81c.8-.78.8-2.07 0-2.86zM5.41 20L4 18.59l7.72-7.72 1.47 1.35L5.41 20z\"/>\n",
              "  </svg>\n",
              "      </button>\n",
              "      \n",
              "  <style>\n",
              "    .colab-df-container {\n",
              "      display:flex;\n",
              "      flex-wrap:wrap;\n",
              "      gap: 12px;\n",
              "    }\n",
              "\n",
              "    .colab-df-convert {\n",
              "      background-color: #E8F0FE;\n",
              "      border: none;\n",
              "      border-radius: 50%;\n",
              "      cursor: pointer;\n",
              "      display: none;\n",
              "      fill: #1967D2;\n",
              "      height: 32px;\n",
              "      padding: 0 0 0 0;\n",
              "      width: 32px;\n",
              "    }\n",
              "\n",
              "    .colab-df-convert:hover {\n",
              "      background-color: #E2EBFA;\n",
              "      box-shadow: 0px 1px 2px rgba(60, 64, 67, 0.3), 0px 1px 3px 1px rgba(60, 64, 67, 0.15);\n",
              "      fill: #174EA6;\n",
              "    }\n",
              "\n",
              "    [theme=dark] .colab-df-convert {\n",
              "      background-color: #3B4455;\n",
              "      fill: #D2E3FC;\n",
              "    }\n",
              "\n",
              "    [theme=dark] .colab-df-convert:hover {\n",
              "      background-color: #434B5C;\n",
              "      box-shadow: 0px 1px 3px 1px rgba(0, 0, 0, 0.15);\n",
              "      filter: drop-shadow(0px 1px 2px rgba(0, 0, 0, 0.3));\n",
              "      fill: #FFFFFF;\n",
              "    }\n",
              "  </style>\n",
              "\n",
              "      <script>\n",
              "        const buttonEl =\n",
              "          document.querySelector('#df-efc0f5dc-12eb-4a93-9a91-c14e04b9d2f3 button.colab-df-convert');\n",
              "        buttonEl.style.display =\n",
              "          google.colab.kernel.accessAllowed ? 'block' : 'none';\n",
              "\n",
              "        async function convertToInteractive(key) {\n",
              "          const element = document.querySelector('#df-efc0f5dc-12eb-4a93-9a91-c14e04b9d2f3');\n",
              "          const dataTable =\n",
              "            await google.colab.kernel.invokeFunction('convertToInteractive',\n",
              "                                                     [key], {});\n",
              "          if (!dataTable) return;\n",
              "\n",
              "          const docLinkHtml = 'Like what you see? Visit the ' +\n",
              "            '<a target=\"_blank\" href=https://colab.research.google.com/notebooks/data_table.ipynb>data table notebook</a>'\n",
              "            + ' to learn more about interactive tables.';\n",
              "          element.innerHTML = '';\n",
              "          dataTable['output_type'] = 'display_data';\n",
              "          await google.colab.output.renderOutput(dataTable, element);\n",
              "          const docLink = document.createElement('div');\n",
              "          docLink.innerHTML = docLinkHtml;\n",
              "          element.appendChild(docLink);\n",
              "        }\n",
              "      </script>\n",
              "    </div>\n",
              "  </div>\n",
              "  "
            ]
          },
          "metadata": {},
          "execution_count": 12
        }
      ]
    },
    {
      "cell_type": "code",
      "source": [
        "df = df.drop('pickup_datetime',axis=1)\n"
      ],
      "metadata": {
        "id": "K6pNGZ6gFqWz"
      },
      "execution_count": null,
      "outputs": []
    },
    {
      "cell_type": "code",
      "source": [
        "df.dtypes"
      ],
      "metadata": {
        "colab": {
          "base_uri": "https://localhost:8080/"
        },
        "id": "MgZLCO25Fty5",
        "outputId": "2e778268-4337-409f-eff9-cb7d6fa8197d"
      },
      "execution_count": null,
      "outputs": [
        {
          "output_type": "execute_result",
          "data": {
            "text/plain": [
              "fare_amount          float64\n",
              "pickup_longitude     float64\n",
              "pickup_latitude      float64\n",
              "dropoff_longitude    float64\n",
              "dropoff_latitude     float64\n",
              "passenger_count        int64\n",
              "hour                   int64\n",
              "day                    int64\n",
              "month                  int64\n",
              "year                   int64\n",
              "dayofweek              int64\n",
              "dtype: object"
            ]
          },
          "metadata": {},
          "execution_count": 14
        }
      ]
    },
    {
      "cell_type": "code",
      "source": [
        "df.plot(kind = \"box\",subplots = True,layout = (7,2),figsize=(15,20))\n"
      ],
      "metadata": {
        "colab": {
          "base_uri": "https://localhost:8080/",
          "height": 1000
        },
        "id": "Z_wCi_I6Fx5X",
        "outputId": "60d329a2-c39c-40f8-d761-ff90aea3dd29"
      },
      "execution_count": null,
      "outputs": [
        {
          "output_type": "execute_result",
          "data": {
            "text/plain": [
              "fare_amount             AxesSubplot(0.125,0.787927;0.352273x0.0920732)\n",
              "pickup_longitude     AxesSubplot(0.547727,0.787927;0.352273x0.0920732)\n",
              "pickup_latitude         AxesSubplot(0.125,0.677439;0.352273x0.0920732)\n",
              "dropoff_longitude    AxesSubplot(0.547727,0.677439;0.352273x0.0920732)\n",
              "dropoff_latitude        AxesSubplot(0.125,0.566951;0.352273x0.0920732)\n",
              "passenger_count      AxesSubplot(0.547727,0.566951;0.352273x0.0920732)\n",
              "hour                    AxesSubplot(0.125,0.456463;0.352273x0.0920732)\n",
              "day                  AxesSubplot(0.547727,0.456463;0.352273x0.0920732)\n",
              "month                   AxesSubplot(0.125,0.345976;0.352273x0.0920732)\n",
              "year                 AxesSubplot(0.547727,0.345976;0.352273x0.0920732)\n",
              "dayofweek               AxesSubplot(0.125,0.235488;0.352273x0.0920732)\n",
              "dtype: object"
            ]
          },
          "metadata": {},
          "execution_count": 15
        },
        {
          "output_type": "display_data",
          "data": {
            "text/plain": [
              "<Figure size 1080x1440 with 14 Axes>"
            ],
            "image/png": "[encoded data removed]"
          },
          "metadata": {
            "needs_background": "light"
          }
        }
      ]
    },
    {
      "cell_type": "code",
      "source": [
        "def remove_outlier(df1 , col):\n",
        " Q1 = df1[col].quantile(0.25)\n",
        " Q3 = df1[col].quantile(0.75)\n",
        " IQR = Q3 - Q1\n",
        " lower_whisker = Q1-1.5*IQR\n",
        " upper_whisker = Q3+1.5*IQR\n",
        " df[col] = np.clip(df1[col] , lower_whisker , upper_whisker)\n",
        " return df1\n",
        " "
      ],
      "metadata": {
        "id": "v93Qt2B1FyyI"
      },
      "execution_count": null,
      "outputs": []
    },
    {
      "cell_type": "code",
      "source": [
        "def treat_outliers_all(df1 , col_list):\n",
        " for c in col_list:\n",
        "  df1 = remove_outlier(df , c)\n",
        " return df1\n",
        "df = treat_outliers_all(df , df.iloc[: , 0::])\n",
        "df.plot(kind = \"box\",subplots = True,layout = (7,2))"
      ],
      "metadata": {
        "colab": {
          "base_uri": "https://localhost:8080/",
          "height": 442
        },
        "id": "2KtZ3CQtF9db",
        "outputId": "6f8fb28c-afbb-4211-9468-f9ff8de5b503"
      },
      "execution_count": null,
      "outputs": [
        {
          "output_type": "execute_result",
          "data": {
            "text/plain": [
              "fare_amount             AxesSubplot(0.125,0.787927;0.352273x0.0920732)\n",
              "pickup_longitude     AxesSubplot(0.547727,0.787927;0.352273x0.0920732)\n",
              "pickup_latitude         AxesSubplot(0.125,0.677439;0.352273x0.0920732)\n",
              "dropoff_longitude    AxesSubplot(0.547727,0.677439;0.352273x0.0920732)\n",
              "dropoff_latitude        AxesSubplot(0.125,0.566951;0.352273x0.0920732)\n",
              "passenger_count      AxesSubplot(0.547727,0.566951;0.352273x0.0920732)\n",
              "hour                    AxesSubplot(0.125,0.456463;0.352273x0.0920732)\n",
              "day                  AxesSubplot(0.547727,0.456463;0.352273x0.0920732)\n",
              "month                   AxesSubplot(0.125,0.345976;0.352273x0.0920732)\n",
              "year                 AxesSubplot(0.547727,0.345976;0.352273x0.0920732)\n",
              "dayofweek               AxesSubplot(0.125,0.235488;0.352273x0.0920732)\n",
              "dtype: object"
            ]
          },
          "metadata": {},
          "execution_count": 22
        },
        {
          "output_type": "display_data",
          "data": {
            "text/plain": [
              "<Figure size 432x288 with 14 Axes>"
            ],
            "image/png": "[encoded data removed]"
          },
          "metadata": {
            "needs_background": "light"
          }
        }
      ]
    },
    {
      "cell_type": "code",
      "source": [
        "pip install haversine"
      ],
      "metadata": {
        "colab": {
          "base_uri": "https://localhost:8080/"
        },
        "id": "aqN86YS8GDJb",
        "outputId": "0a6d8a72-a27a-4540-e54c-dec0db21a816"
      },
      "execution_count": null,
      "outputs": [
        {
          "output_type": "stream",
          "name": "stdout",
          "text": [
            "Looking in indexes: https://pypi.org/simple, https://us-python.pkg.dev/colab-wheels/public/simple/\n",
            "Collecting haversine\n",
            "  Downloading haversine-2.7.0-py2.py3-none-any.whl (6.9 kB)\n",
            "Installing collected packages: haversine\n",
            "Successfully installed haversine-2.7.0\n"
          ]
        }
      ]
    },
    {
      "cell_type": "code",
      "source": [
        "\n",
        "\n",
        "import haversine as hs"
      ],
      "metadata": {
        "id": "hj44etMAGM3C"
      },
      "execution_count": null,
      "outputs": []
    },
    {
      "cell_type": "code",
      "source": [
        "travel_dist = []\n",
        "for pos in range(len(df['pickup_longitude'])):\n",
        "        long1,lati1,long2,lati2 = [df['pickup_longitude'][pos],df['pickup_latitude'][pos],df['dropoff_longitude'][pos],df['dropoff_latitude'][pos]]\n",
        "        loc1=(lati1,long1)\n",
        "        loc2=(lati2,long2)\n",
        "        c = hs.haversine(loc1,loc2)\n",
        "        travel_dist.append(c)\n",
        "    \n",
        "print(travel_dist)\n",
        "df['dist_travel_km'] = travel_dist\n",
        "df.head()"
      ],
      "metadata": {
        "colab": {
          "base_uri": "https://localhost:8080/",
          "height": 380
        },
        "id": "VM57iOm2GVOu",
        "outputId": "7b115214-ffbd-40de-e10d-33a9df307de8"
      },
      "execution_count": null,
      "outputs": [
        {
          "output_type": "stream",
          "name": "stderr",
          "text": [
            "IOPub data rate exceeded.\n",
            "The notebook server will temporarily stop sending output\n",
            "to the client in order to avoid crashing it.\n",
            "To change this limit, set the config variable\n",
            "`--NotebookApp.iopub_data_rate_limit`.\n",
            "\n",
            "Current values:\n",
            "NotebookApp.iopub_data_rate_limit=1000000.0 (bytes/sec)\n",
            "NotebookApp.rate_limit_window=3.0 (secs)\n",
            "\n"
          ]
        },
        {
          "output_type": "execute_result",
          "data": {
            "text/plain": [
              "   fare_amount  pickup_longitude  pickup_latitude  dropoff_longitude  \\\n",
              "0          7.5        -73.999817        40.738354         -73.999512   \n",
              "1          7.7        -73.994355        40.728225         -73.994710   \n",
              "2         12.9        -74.005043        40.740770         -73.962565   \n",
              "3          5.3        -73.976124        40.790844         -73.965316   \n",
              "4         16.0        -73.929786        40.744085         -73.973082   \n",
              "\n",
              "   dropoff_latitude  passenger_count  hour  day  month  year  dayofweek  \\\n",
              "0         40.723217              1.0    19    7      5  2015          3   \n",
              "1         40.750325              1.0    20   17      7  2009          4   \n",
              "2         40.772647              1.0    21   24      8  2009          0   \n",
              "3         40.803349              3.0     8   26      6  2009          4   \n",
              "4         40.761247              3.5    17   28      8  2014          3   \n",
              "\n",
              "   dist_travel_km  \n",
              "0        1.683325  \n",
              "1        2.457593  \n",
              "2        5.036384  \n",
              "3        1.661686  \n",
              "4        4.116088  "
            ],
            "text/html": [
              "\n",
              "  <div id=\"df-a00dce3d-8b2e-4f33-ba67-8b6db9e05bcd\">\n",
              "    <div class=\"colab-df-container\">\n",
              "      <div>\n",
              "<style scoped>\n",
              "    .dataframe tbody tr th:only-of-type {\n",
              "        vertical-align: middle;\n",
              "    }\n",
              "\n",
              "    .dataframe tbody tr th {\n",
              "        vertical-align: top;\n",
              "    }\n",
              "\n",
              "    .dataframe thead th {\n",
              "        text-align: right;\n",
              "    }\n",
              "</style>\n",
              "<table border=\"1\" class=\"dataframe\">\n",
              "  <thead>\n",
              "    <tr style=\"text-align: right;\">\n",
              "      <th></th>\n",
              "      <th>fare_amount</th>\n",
              "      <th>pickup_longitude</th>\n",
              "      <th>pickup_latitude</th>\n",
              "      <th>dropoff_longitude</th>\n",
              "      <th>dropoff_latitude</th>\n",
              "      <th>passenger_count</th>\n",
              "      <th>hour</th>\n",
              "      <th>day</th>\n",
              "      <th>month</th>\n",
              "      <th>year</th>\n",
              "      <th>dayofweek</th>\n",
              "      <th>dist_travel_km</th>\n",
              "    </tr>\n",
              "  </thead>\n",
              "  <tbody>\n",
              "    <tr>\n",
              "      <th>0</th>\n",
              "      <td>7.5</td>\n",
              "      <td>-73.999817</td>\n",
              "      <td>40.738354</td>\n",
              "      <td>-73.999512</td>\n",
              "      <td>40.723217</td>\n",
              "      <td>1.0</td>\n",
              "      <td>19</td>\n",
              "      <td>7</td>\n",
              "      <td>5</td>\n",
              "      <td>2015</td>\n",
              "      <td>3</td>\n",
              "      <td>1.683325</td>\n",
              "    </tr>\n",
              "    <tr>\n",
              "      <th>1</th>\n",
              "      <td>7.7</td>\n",
              "      <td>-73.994355</td>\n",
              "      <td>40.728225</td>\n",
              "      <td>-73.994710</td>\n",
              "      <td>40.750325</td>\n",
              "      <td>1.0</td>\n",
              "      <td>20</td>\n",
              "      <td>17</td>\n",
              "      <td>7</td>\n",
              "      <td>2009</td>\n",
              "      <td>4</td>\n",
              "      <td>2.457593</td>\n",
              "    </tr>\n",
              "    <tr>\n",
              "      <th>2</th>\n",
              "      <td>12.9</td>\n",
              "      <td>-74.005043</td>\n",
              "      <td>40.740770</td>\n",
              "      <td>-73.962565</td>\n",
              "      <td>40.772647</td>\n",
              "      <td>1.0</td>\n",
              "      <td>21</td>\n",
              "      <td>24</td>\n",
              "      <td>8</td>\n",
              "      <td>2009</td>\n",
              "      <td>0</td>\n",
              "      <td>5.036384</td>\n",
              "    </tr>\n",
              "    <tr>\n",
              "      <th>3</th>\n",
              "      <td>5.3</td>\n",
              "      <td>-73.976124</td>\n",
              "      <td>40.790844</td>\n",
              "      <td>-73.965316</td>\n",
              "      <td>40.803349</td>\n",
              "      <td>3.0</td>\n",
              "      <td>8</td>\n",
              "      <td>26</td>\n",
              "      <td>6</td>\n",
              "      <td>2009</td>\n",
              "      <td>4</td>\n",
              "      <td>1.661686</td>\n",
              "    </tr>\n",
              "    <tr>\n",
              "      <th>4</th>\n",
              "      <td>16.0</td>\n",
              "      <td>-73.929786</td>\n",
              "      <td>40.744085</td>\n",
              "      <td>-73.973082</td>\n",
              "      <td>40.761247</td>\n",
              "      <td>3.5</td>\n",
              "      <td>17</td>\n",
              "      <td>28</td>\n",
              "      <td>8</td>\n",
              "      <td>2014</td>\n",
              "      <td>3</td>\n",
              "      <td>4.116088</td>\n",
              "    </tr>\n",
              "  </tbody>\n",
              "</table>\n",
              "</div>\n",
              "      <button class=\"colab-df-convert\" onclick=\"convertToInteractive('df-a00dce3d-8b2e-4f33-ba67-8b6db9e05bcd')\"\n",
              "              title=\"Convert this dataframe to an interactive table.\"\n",
              "              style=\"display:none;\">\n",
              "        \n",
              "  <svg xmlns=\"http://www.w3.org/2000/svg\" height=\"24px\"viewBox=\"0 0 24 24\"\n",
              "       width=\"24px\">\n",
              "    <path d=\"M0 0h24v24H0V0z\" fill=\"none\"/>\n",
              "    <path d=\"M18.56 5.44l.94 2.06.94-2.06 2.06-.94-2.06-.94-.94-2.06-.94 2.06-2.06.94zm-11 1L8.5 8.5l.94-2.06 2.06-.94-2.06-.94L8.5 2.5l-.94 2.06-2.06.94zm10 10l.94 2.06.94-2.06 2.06-.94-2.06-.94-.94-2.06-.94 2.06-2.06.94z\"/><path d=\"M17.41 7.96l-1.37-1.37c-.4-.4-.92-.59-1.43-.59-.52 0-1.04.2-1.43.59L10.3 9.45l-7.72 7.72c-.78.78-.78 2.05 0 2.83L4 21.41c.39.39.9.59 1.41.59.51 0 1.02-.2 1.41-.59l7.78-7.78 2.81-2.81c.8-.78.8-2.07 0-2.86zM5.41 20L4 18.59l7.72-7.72 1.47 1.35L5.41 20z\"/>\n",
              "  </svg>\n",
              "      </button>\n",
              "      \n",
              "  <style>\n",
              "    .colab-df-container {\n",
              "      display:flex;\n",
              "      flex-wrap:wrap;\n",
              "      gap: 12px;\n",
              "    }\n",
              "\n",
              "    .colab-df-convert {\n",
              "      background-color: #E8F0FE;\n",
              "      border: none;\n",
              "      border-radius: 50%;\n",
              "      cursor: pointer;\n",
              "      display: none;\n",
              "      fill: #1967D2;\n",
              "      height: 32px;\n",
              "      padding: 0 0 0 0;\n",
              "      width: 32px;\n",
              "    }\n",
              "\n",
              "    .colab-df-convert:hover {\n",
              "      background-color: #E2EBFA;\n",
              "      box-shadow: 0px 1px 2px rgba(60, 64, 67, 0.3), 0px 1px 3px 1px rgba(60, 64, 67, 0.15);\n",
              "      fill: #174EA6;\n",
              "    }\n",
              "\n",
              "    [theme=dark] .colab-df-convert {\n",
              "      background-color: #3B4455;\n",
              "      fill: #D2E3FC;\n",
              "    }\n",
              "\n",
              "    [theme=dark] .colab-df-convert:hover {\n",
              "      background-color: #434B5C;\n",
              "      box-shadow: 0px 1px 3px 1px rgba(0, 0, 0, 0.15);\n",
              "      filter: drop-shadow(0px 1px 2px rgba(0, 0, 0, 0.3));\n",
              "      fill: #FFFFFF;\n",
              "    }\n",
              "  </style>\n",
              "\n",
              "      <script>\n",
              "        const buttonEl =\n",
              "          document.querySelector('#df-a00dce3d-8b2e-4f33-ba67-8b6db9e05bcd button.colab-df-convert');\n",
              "        buttonEl.style.display =\n",
              "          google.colab.kernel.accessAllowed ? 'block' : 'none';\n",
              "\n",
              "        async function convertToInteractive(key) {\n",
              "          const element = document.querySelector('#df-a00dce3d-8b2e-4f33-ba67-8b6db9e05bcd');\n",
              "          const dataTable =\n",
              "            await google.colab.kernel.invokeFunction('convertToInteractive',\n",
              "                                                     [key], {});\n",
              "          if (!dataTable) return;\n",
              "\n",
              "          const docLinkHtml = 'Like what you see? Visit the ' +\n",
              "            '<a target=\"_blank\" href=https://colab.research.google.com/notebooks/data_table.ipynb>data table notebook</a>'\n",
              "            + ' to learn more about interactive tables.';\n",
              "          element.innerHTML = '';\n",
              "          dataTable['output_type'] = 'display_data';\n",
              "          await google.colab.output.renderOutput(dataTable, element);\n",
              "          const docLink = document.createElement('div');\n",
              "          docLink.innerHTML = docLinkHtml;\n",
              "          element.appendChild(docLink);\n",
              "        }\n",
              "      </script>\n",
              "    </div>\n",
              "  </div>\n",
              "  "
            ]
          },
          "metadata": {},
          "execution_count": 27
        }
      ]
    },
    {
      "cell_type": "code",
      "source": [
        "df= df.loc[(df.dist_travel_km >= 1) | (df.dist_travel_km <= 130)]\n",
        "print(\"Remaining observastions in the dataset:\", df.shape)"
      ],
      "metadata": {
        "colab": {
          "base_uri": "https://localhost:8080/"
        },
        "id": "eB_0bbOYGg8j",
        "outputId": "6754f7af-e1f9-4ac2-d26f-507bf7782e66"
      },
      "execution_count": null,
      "outputs": [
        {
          "output_type": "stream",
          "name": "stdout",
          "text": [
            "Remaining observastions in the dataset: (200000, 12)\n"
          ]
        }
      ]
    },
    {
      "cell_type": "code",
      "source": [
        "#Finding inccorect latitude (Less than or greater than 90) and longitude (greater than or less than 180)\n",
        "incorrect_coordinates = df.loc[(df.pickup_latitude > 90) |(df.pickup_latitude < -90) |\n",
        "                                   (df.dropoff_latitude > 90) |(df.dropoff_latitude < -90) |\n",
        "                                   (df.pickup_longitude > 180) |(df.pickup_longitude < -180) |\n",
        "                                   (df.dropoff_longitude > 90) |(df.dropoff_longitude < -90)\n",
        "                                    ]\n"
      ],
      "metadata": {
        "id": "mq3lPCegGk4P"
      },
      "execution_count": null,
      "outputs": []
    },
    {
      "cell_type": "code",
      "source": [
        "df.drop(incorrect_coordinates, inplace = True, errors = 'ignore')"
      ],
      "metadata": {
        "id": "xkPyxK_-IGaA"
      },
      "execution_count": null,
      "outputs": []
    },
    {
      "cell_type": "code",
      "source": [
        "df.head()"
      ],
      "metadata": {
        "colab": {
          "base_uri": "https://localhost:8080/",
          "height": 206
        },
        "id": "qVZJEctkUKcT",
        "outputId": "30c95727-eb75-454b-c376-8af2a40ccef5"
      },
      "execution_count": null,
      "outputs": [
        {
          "output_type": "execute_result",
          "data": {
            "text/plain": [
              "   fare_amount  pickup_longitude  pickup_latitude  dropoff_longitude  \\\n",
              "0          7.5        -73.999817        40.738354         -73.999512   \n",
              "1          7.7        -73.994355        40.728225         -73.994710   \n",
              "2         12.9        -74.005043        40.740770         -73.962565   \n",
              "3          5.3        -73.976124        40.790844         -73.965316   \n",
              "4         16.0        -73.929786        40.744085         -73.973082   \n",
              "\n",
              "   dropoff_latitude  passenger_count  hour  day  month  year  dayofweek  \\\n",
              "0         40.723217              1.0    19    7      5  2015          3   \n",
              "1         40.750325              1.0    20   17      7  2009          4   \n",
              "2         40.772647              1.0    21   24      8  2009          0   \n",
              "3         40.803349              3.0     8   26      6  2009          4   \n",
              "4         40.761247              3.5    17   28      8  2014          3   \n",
              "\n",
              "   dist_travel_km  \n",
              "0        1.683325  \n",
              "1        2.457593  \n",
              "2        5.036384  \n",
              "3        1.661686  \n",
              "4        4.116088  "
            ],
            "text/html": [
              "\n",
              "  <div id=\"df-51cbf563-9c38-4d5b-9c8d-11d1cd0609c6\">\n",
              "    <div class=\"colab-df-container\">\n",
              "      <div>\n",
              "<style scoped>\n",
              "    .dataframe tbody tr th:only-of-type {\n",
              "        vertical-align: middle;\n",
              "    }\n",
              "\n",
              "    .dataframe tbody tr th {\n",
              "        vertical-align: top;\n",
              "    }\n",
              "\n",
              "    .dataframe thead th {\n",
              "        text-align: right;\n",
              "    }\n",
              "</style>\n",
              "<table border=\"1\" class=\"dataframe\">\n",
              "  <thead>\n",
              "    <tr style=\"text-align: right;\">\n",
              "      <th></th>\n",
              "      <th>fare_amount</th>\n",
              "      <th>pickup_longitude</th>\n",
              "      <th>pickup_latitude</th>\n",
              "      <th>dropoff_longitude</th>\n",
              "      <th>dropoff_latitude</th>\n",
              "      <th>passenger_count</th>\n",
              "      <th>hour</th>\n",
              "      <th>day</th>\n",
              "      <th>month</th>\n",
              "      <th>year</th>\n",
              "      <th>dayofweek</th>\n",
              "      <th>dist_travel_km</th>\n",
              "    </tr>\n",
              "  </thead>\n",
              "  <tbody>\n",
              "    <tr>\n",
              "      <th>0</th>\n",
              "      <td>7.5</td>\n",
              "      <td>-73.999817</td>\n",
              "      <td>40.738354</td>\n",
              "      <td>-73.999512</td>\n",
              "      <td>40.723217</td>\n",
              "      <td>1.0</td>\n",
              "      <td>19</td>\n",
              "      <td>7</td>\n",
              "      <td>5</td>\n",
              "      <td>2015</td>\n",
              "      <td>3</td>\n",
              "      <td>1.683325</td>\n",
              "    </tr>\n",
              "    <tr>\n",
              "      <th>1</th>\n",
              "      <td>7.7</td>\n",
              "      <td>-73.994355</td>\n",
              "      <td>40.728225</td>\n",
              "      <td>-73.994710</td>\n",
              "      <td>40.750325</td>\n",
              "      <td>1.0</td>\n",
              "      <td>20</td>\n",
              "      <td>17</td>\n",
              "      <td>7</td>\n",
              "      <td>2009</td>\n",
              "      <td>4</td>\n",
              "      <td>2.457593</td>\n",
              "    </tr>\n",
              "    <tr>\n",
              "      <th>2</th>\n",
              "      <td>12.9</td>\n",
              "      <td>-74.005043</td>\n",
              "      <td>40.740770</td>\n",
              "      <td>-73.962565</td>\n",
              "      <td>40.772647</td>\n",
              "      <td>1.0</td>\n",
              "      <td>21</td>\n",
              "      <td>24</td>\n",
              "      <td>8</td>\n",
              "      <td>2009</td>\n",
              "      <td>0</td>\n",
              "      <td>5.036384</td>\n",
              "    </tr>\n",
              "    <tr>\n",
              "      <th>3</th>\n",
              "      <td>5.3</td>\n",
              "      <td>-73.976124</td>\n",
              "      <td>40.790844</td>\n",
              "      <td>-73.965316</td>\n",
              "      <td>40.803349</td>\n",
              "      <td>3.0</td>\n",
              "      <td>8</td>\n",
              "      <td>26</td>\n",
              "      <td>6</td>\n",
              "      <td>2009</td>\n",
              "      <td>4</td>\n",
              "      <td>1.661686</td>\n",
              "    </tr>\n",
              "    <tr>\n",
              "      <th>4</th>\n",
              "      <td>16.0</td>\n",
              "      <td>-73.929786</td>\n",
              "      <td>40.744085</td>\n",
              "      <td>-73.973082</td>\n",
              "      <td>40.761247</td>\n",
              "      <td>3.5</td>\n",
              "      <td>17</td>\n",
              "      <td>28</td>\n",
              "      <td>8</td>\n",
              "      <td>2014</td>\n",
              "      <td>3</td>\n",
              "      <td>4.116088</td>\n",
              "    </tr>\n",
              "  </tbody>\n",
              "</table>\n",
              "</div>\n",
              "      <button class=\"colab-df-convert\" onclick=\"convertToInteractive('df-51cbf563-9c38-4d5b-9c8d-11d1cd0609c6')\"\n",
              "              title=\"Convert this dataframe to an interactive table.\"\n",
              "              style=\"display:none;\">\n",
              "        \n",
              "  <svg xmlns=\"http://www.w3.org/2000/svg\" height=\"24px\"viewBox=\"0 0 24 24\"\n",
              "       width=\"24px\">\n",
              "    <path d=\"M0 0h24v24H0V0z\" fill=\"none\"/>\n",
              "    <path d=\"M18.56 5.44l.94 2.06.94-2.06 2.06-.94-2.06-.94-.94-2.06-.94 2.06-2.06.94zm-11 1L8.5 8.5l.94-2.06 2.06-.94-2.06-.94L8.5 2.5l-.94 2.06-2.06.94zm10 10l.94 2.06.94-2.06 2.06-.94-2.06-.94-.94-2.06-.94 2.06-2.06.94z\"/><path d=\"M17.41 7.96l-1.37-1.37c-.4-.4-.92-.59-1.43-.59-.52 0-1.04.2-1.43.59L10.3 9.45l-7.72 7.72c-.78.78-.78 2.05 0 2.83L4 21.41c.39.39.9.59 1.41.59.51 0 1.02-.2 1.41-.59l7.78-7.78 2.81-2.81c.8-.78.8-2.07 0-2.86zM5.41 20L4 18.59l7.72-7.72 1.47 1.35L5.41 20z\"/>\n",
              "  </svg>\n",
              "      </button>\n",
              "      \n",
              "  <style>\n",
              "    .colab-df-container {\n",
              "      display:flex;\n",
              "      flex-wrap:wrap;\n",
              "      gap: 12px;\n",
              "    }\n",
              "\n",
              "    .colab-df-convert {\n",
              "      background-color: #E8F0FE;\n",
              "      border: none;\n",
              "      border-radius: 50%;\n",
              "      cursor: pointer;\n",
              "      display: none;\n",
              "      fill: #1967D2;\n",
              "      height: 32px;\n",
              "      padding: 0 0 0 0;\n",
              "      width: 32px;\n",
              "    }\n",
              "\n",
              "    .colab-df-convert:hover {\n",
              "      background-color: #E2EBFA;\n",
              "      box-shadow: 0px 1px 2px rgba(60, 64, 67, 0.3), 0px 1px 3px 1px rgba(60, 64, 67, 0.15);\n",
              "      fill: #174EA6;\n",
              "    }\n",
              "\n",
              "    [theme=dark] .colab-df-convert {\n",
              "      background-color: #3B4455;\n",
              "      fill: #D2E3FC;\n",
              "    }\n",
              "\n",
              "    [theme=dark] .colab-df-convert:hover {\n",
              "      background-color: #434B5C;\n",
              "      box-shadow: 0px 1px 3px 1px rgba(0, 0, 0, 0.15);\n",
              "      filter: drop-shadow(0px 1px 2px rgba(0, 0, 0, 0.3));\n",
              "      fill: #FFFFFF;\n",
              "    }\n",
              "  </style>\n",
              "\n",
              "      <script>\n",
              "        const buttonEl =\n",
              "          document.querySelector('#df-51cbf563-9c38-4d5b-9c8d-11d1cd0609c6 button.colab-df-convert');\n",
              "        buttonEl.style.display =\n",
              "          google.colab.kernel.accessAllowed ? 'block' : 'none';\n",
              "\n",
              "        async function convertToInteractive(key) {\n",
              "          const element = document.querySelector('#df-51cbf563-9c38-4d5b-9c8d-11d1cd0609c6');\n",
              "          const dataTable =\n",
              "            await google.colab.kernel.invokeFunction('convertToInteractive',\n",
              "                                                     [key], {});\n",
              "          if (!dataTable) return;\n",
              "\n",
              "          const docLinkHtml = 'Like what you see? Visit the ' +\n",
              "            '<a target=\"_blank\" href=https://colab.research.google.com/notebooks/data_table.ipynb>data table notebook</a>'\n",
              "            + ' to learn more about interactive tables.';\n",
              "          element.innerHTML = '';\n",
              "          dataTable['output_type'] = 'display_data';\n",
              "          await google.colab.output.renderOutput(dataTable, element);\n",
              "          const docLink = document.createElement('div');\n",
              "          docLink.innerHTML = docLinkHtml;\n",
              "          element.appendChild(docLink);\n",
              "        }\n",
              "      </script>\n",
              "    </div>\n",
              "  </div>\n",
              "  "
            ]
          },
          "metadata": {},
          "execution_count": 37
        }
      ]
    },
    {
      "cell_type": "code",
      "source": [
        "df.isnull().sum()"
      ],
      "metadata": {
        "colab": {
          "base_uri": "https://localhost:8080/"
        },
        "id": "uIBRV23qH6sO",
        "outputId": "d74042d2-58a3-4ff8-aa46-de2cc999827d"
      },
      "execution_count": null,
      "outputs": [
        {
          "output_type": "execute_result",
          "data": {
            "text/plain": [
              "fare_amount          0\n",
              "pickup_longitude     0\n",
              "pickup_latitude      0\n",
              "dropoff_longitude    0\n",
              "dropoff_latitude     0\n",
              "passenger_count      0\n",
              "hour                 0\n",
              "day                  0\n",
              "month                0\n",
              "year                 0\n",
              "dayofweek            0\n",
              "dist_travel_km       0\n",
              "dtype: int64"
            ]
          },
          "metadata": {},
          "execution_count": 38
        }
      ]
    },
    {
      "cell_type": "code",
      "source": [
        "df.head()"
      ],
      "metadata": {
        "colab": {
          "base_uri": "https://localhost:8080/",
          "height": 206
        },
        "id": "BcC8GXCFISJN",
        "outputId": "db0ffba2-dd29-4e50-fd35-f1040fbf7c1c"
      },
      "execution_count": null,
      "outputs": [
        {
          "output_type": "execute_result",
          "data": {
            "text/plain": [
              "   fare_amount  pickup_longitude  pickup_latitude  dropoff_longitude  \\\n",
              "0          7.5        -73.999817        40.738354         -73.999512   \n",
              "1          7.7        -73.994355        40.728225         -73.994710   \n",
              "2         12.9        -74.005043        40.740770         -73.962565   \n",
              "3          5.3        -73.976124        40.790844         -73.965316   \n",
              "4         16.0        -73.929786        40.744085         -73.973082   \n",
              "\n",
              "   dropoff_latitude  passenger_count  hour  day  month  year  dayofweek  \\\n",
              "0         40.723217              1.0    19    7      5  2015          3   \n",
              "1         40.750325              1.0    20   17      7  2009          4   \n",
              "2         40.772647              1.0    21   24      8  2009          0   \n",
              "3         40.803349              3.0     8   26      6  2009          4   \n",
              "4         40.761247              3.5    17   28      8  2014          3   \n",
              "\n",
              "   dist_travel_km  \n",
              "0        1.683325  \n",
              "1        2.457593  \n",
              "2        5.036384  \n",
              "3        1.661686  \n",
              "4        4.116088  "
            ],
            "text/html": [
              "\n",
              "  <div id=\"df-ba9f552a-6a05-4600-b9cd-4f5d5a1737bd\">\n",
              "    <div class=\"colab-df-container\">\n",
              "      <div>\n",
              "<style scoped>\n",
              "    .dataframe tbody tr th:only-of-type {\n",
              "        vertical-align: middle;\n",
              "    }\n",
              "\n",
              "    .dataframe tbody tr th {\n",
              "        vertical-align: top;\n",
              "    }\n",
              "\n",
              "    .dataframe thead th {\n",
              "        text-align: right;\n",
              "    }\n",
              "</style>\n",
              "<table border=\"1\" class=\"dataframe\">\n",
              "  <thead>\n",
              "    <tr style=\"text-align: right;\">\n",
              "      <th></th>\n",
              "      <th>fare_amount</th>\n",
              "      <th>pickup_longitude</th>\n",
              "      <th>pickup_latitude</th>\n",
              "      <th>dropoff_longitude</th>\n",
              "      <th>dropoff_latitude</th>\n",
              "      <th>passenger_count</th>\n",
              "      <th>hour</th>\n",
              "      <th>day</th>\n",
              "      <th>month</th>\n",
              "      <th>year</th>\n",
              "      <th>dayofweek</th>\n",
              "      <th>dist_travel_km</th>\n",
              "    </tr>\n",
              "  </thead>\n",
              "  <tbody>\n",
              "    <tr>\n",
              "      <th>0</th>\n",
              "      <td>7.5</td>\n",
              "      <td>-73.999817</td>\n",
              "      <td>40.738354</td>\n",
              "      <td>-73.999512</td>\n",
              "      <td>40.723217</td>\n",
              "      <td>1.0</td>\n",
              "      <td>19</td>\n",
              "      <td>7</td>\n",
              "      <td>5</td>\n",
              "      <td>2015</td>\n",
              "      <td>3</td>\n",
              "      <td>1.683325</td>\n",
              "    </tr>\n",
              "    <tr>\n",
              "      <th>1</th>\n",
              "      <td>7.7</td>\n",
              "      <td>-73.994355</td>\n",
              "      <td>40.728225</td>\n",
              "      <td>-73.994710</td>\n",
              "      <td>40.750325</td>\n",
              "      <td>1.0</td>\n",
              "      <td>20</td>\n",
              "      <td>17</td>\n",
              "      <td>7</td>\n",
              "      <td>2009</td>\n",
              "      <td>4</td>\n",
              "      <td>2.457593</td>\n",
              "    </tr>\n",
              "    <tr>\n",
              "      <th>2</th>\n",
              "      <td>12.9</td>\n",
              "      <td>-74.005043</td>\n",
              "      <td>40.740770</td>\n",
              "      <td>-73.962565</td>\n",
              "      <td>40.772647</td>\n",
              "      <td>1.0</td>\n",
              "      <td>21</td>\n",
              "      <td>24</td>\n",
              "      <td>8</td>\n",
              "      <td>2009</td>\n",
              "      <td>0</td>\n",
              "      <td>5.036384</td>\n",
              "    </tr>\n",
              "    <tr>\n",
              "      <th>3</th>\n",
              "      <td>5.3</td>\n",
              "      <td>-73.976124</td>\n",
              "      <td>40.790844</td>\n",
              "      <td>-73.965316</td>\n",
              "      <td>40.803349</td>\n",
              "      <td>3.0</td>\n",
              "      <td>8</td>\n",
              "      <td>26</td>\n",
              "      <td>6</td>\n",
              "      <td>2009</td>\n",
              "      <td>4</td>\n",
              "      <td>1.661686</td>\n",
              "    </tr>\n",
              "    <tr>\n",
              "      <th>4</th>\n",
              "      <td>16.0</td>\n",
              "      <td>-73.929786</td>\n",
              "      <td>40.744085</td>\n",
              "      <td>-73.973082</td>\n",
              "      <td>40.761247</td>\n",
              "      <td>3.5</td>\n",
              "      <td>17</td>\n",
              "      <td>28</td>\n",
              "      <td>8</td>\n",
              "      <td>2014</td>\n",
              "      <td>3</td>\n",
              "      <td>4.116088</td>\n",
              "    </tr>\n",
              "  </tbody>\n",
              "</table>\n",
              "</div>\n",
              "      <button class=\"colab-df-convert\" onclick=\"convertToInteractive('df-ba9f552a-6a05-4600-b9cd-4f5d5a1737bd')\"\n",
              "              title=\"Convert this dataframe to an interactive table.\"\n",
              "              style=\"display:none;\">\n",
              "        \n",
              "  <svg xmlns=\"http://www.w3.org/2000/svg\" height=\"24px\"viewBox=\"0 0 24 24\"\n",
              "       width=\"24px\">\n",
              "    <path d=\"M0 0h24v24H0V0z\" fill=\"none\"/>\n",
              "    <path d=\"M18.56 5.44l.94 2.06.94-2.06 2.06-.94-2.06-.94-.94-2.06-.94 2.06-2.06.94zm-11 1L8.5 8.5l.94-2.06 2.06-.94-2.06-.94L8.5 2.5l-.94 2.06-2.06.94zm10 10l.94 2.06.94-2.06 2.06-.94-2.06-.94-.94-2.06-.94 2.06-2.06.94z\"/><path d=\"M17.41 7.96l-1.37-1.37c-.4-.4-.92-.59-1.43-.59-.52 0-1.04.2-1.43.59L10.3 9.45l-7.72 7.72c-.78.78-.78 2.05 0 2.83L4 21.41c.39.39.9.59 1.41.59.51 0 1.02-.2 1.41-.59l7.78-7.78 2.81-2.81c.8-.78.8-2.07 0-2.86zM5.41 20L4 18.59l7.72-7.72 1.47 1.35L5.41 20z\"/>\n",
              "  </svg>\n",
              "      </button>\n",
              "      \n",
              "  <style>\n",
              "    .colab-df-container {\n",
              "      display:flex;\n",
              "      flex-wrap:wrap;\n",
              "      gap: 12px;\n",
              "    }\n",
              "\n",
              "    .colab-df-convert {\n",
              "      background-color: #E8F0FE;\n",
              "      border: none;\n",
              "      border-radius: 50%;\n",
              "      cursor: pointer;\n",
              "      display: none;\n",
              "      fill: #1967D2;\n",
              "      height: 32px;\n",
              "      padding: 0 0 0 0;\n",
              "      width: 32px;\n",
              "    }\n",
              "\n",
              "    .colab-df-convert:hover {\n",
              "      background-color: #E2EBFA;\n",
              "      box-shadow: 0px 1px 2px rgba(60, 64, 67, 0.3), 0px 1px 3px 1px rgba(60, 64, 67, 0.15);\n",
              "      fill: #174EA6;\n",
              "    }\n",
              "\n",
              "    [theme=dark] .colab-df-convert {\n",
              "      background-color: #3B4455;\n",
              "      fill: #D2E3FC;\n",
              "    }\n",
              "\n",
              "    [theme=dark] .colab-df-convert:hover {\n",
              "      background-color: #434B5C;\n",
              "      box-shadow: 0px 1px 3px 1px rgba(0, 0, 0, 0.15);\n",
              "      filter: drop-shadow(0px 1px 2px rgba(0, 0, 0, 0.3));\n",
              "      fill: #FFFFFF;\n",
              "    }\n",
              "  </style>\n",
              "\n",
              "      <script>\n",
              "        const buttonEl =\n",
              "          document.querySelector('#df-ba9f552a-6a05-4600-b9cd-4f5d5a1737bd button.colab-df-convert');\n",
              "        buttonEl.style.display =\n",
              "          google.colab.kernel.accessAllowed ? 'block' : 'none';\n",
              "\n",
              "        async function convertToInteractive(key) {\n",
              "          const element = document.querySelector('#df-ba9f552a-6a05-4600-b9cd-4f5d5a1737bd');\n",
              "          const dataTable =\n",
              "            await google.colab.kernel.invokeFunction('convertToInteractive',\n",
              "                                                     [key], {});\n",
              "          if (!dataTable) return;\n",
              "\n",
              "          const docLinkHtml = 'Like what you see? Visit the ' +\n",
              "            '<a target=\"_blank\" href=https://colab.research.google.com/notebooks/data_table.ipynb>data table notebook</a>'\n",
              "            + ' to learn more about interactive tables.';\n",
              "          element.innerHTML = '';\n",
              "          dataTable['output_type'] = 'display_data';\n",
              "          await google.colab.output.renderOutput(dataTable, element);\n",
              "          const docLink = document.createElement('div');\n",
              "          docLink.innerHTML = docLinkHtml;\n",
              "          element.appendChild(docLink);\n",
              "        }\n",
              "      </script>\n",
              "    </div>\n",
              "  </div>\n",
              "  "
            ]
          },
          "metadata": {},
          "execution_count": 39
        }
      ]
    },
    {
      "cell_type": "code",
      "source": [
        "df.isnull().sum()"
      ],
      "metadata": {
        "colab": {
          "base_uri": "https://localhost:8080/"
        },
        "id": "vidN31oeIS68",
        "outputId": "f53c711e-faa0-45ed-d6f2-7d8cd1c6a6e2"
      },
      "execution_count": null,
      "outputs": [
        {
          "output_type": "execute_result",
          "data": {
            "text/plain": [
              "fare_amount          0\n",
              "pickup_longitude     0\n",
              "pickup_latitude      0\n",
              "dropoff_longitude    0\n",
              "dropoff_latitude     0\n",
              "passenger_count      0\n",
              "hour                 0\n",
              "day                  0\n",
              "month                0\n",
              "year                 0\n",
              "dayofweek            0\n",
              "dist_travel_km       0\n",
              "dtype: int64"
            ]
          },
          "metadata": {},
          "execution_count": 40
        }
      ]
    },
    {
      "cell_type": "code",
      "source": [
        "sns.heatmap(df.isnull()) #Free for null values"
      ],
      "metadata": {
        "colab": {
          "base_uri": "https://localhost:8080/",
          "height": 365
        },
        "id": "Sg9O984kV7q2",
        "outputId": "f4da2d35-ae6f-49a5-82aa-cd275196d077"
      },
      "execution_count": null,
      "outputs": [
        {
          "output_type": "execute_result",
          "data": {
            "text/plain": [
              "<matplotlib.axes._subplots.AxesSubplot at 0x7f2fc7250350>"
            ]
          },
          "metadata": {},
          "execution_count": 44
        },
        {
          "output_type": "display_data",
          "data": {
            "text/plain": [
              "<Figure size 432x288 with 2 Axes>"
            ],
            "image/png": "[encoded data removed]"
          },
          "metadata": {
            "needs_background": "light"
          }
        }
      ]
    },
    {
      "cell_type": "code",
      "source": [
        "corr = df.corr() #Function to find the correlation\n",
        "corr"
      ],
      "metadata": {
        "colab": {
          "base_uri": "https://localhost:8080/",
          "height": 426
        },
        "id": "kC-Il6jtIYhE",
        "outputId": "13187e43-a258-4820-9a55-fae1c29ed1e1"
      },
      "execution_count": null,
      "outputs": [
        {
          "output_type": "execute_result",
          "data": {
            "text/plain": [
              "                   fare_amount  pickup_longitude  pickup_latitude  \\\n",
              "fare_amount           1.000000          0.154069        -0.110842   \n",
              "pickup_longitude      0.154069          1.000000         0.259497   \n",
              "pickup_latitude      -0.110842          0.259497         1.000000   \n",
              "dropoff_longitude     0.218675          0.425619         0.048889   \n",
              "dropoff_latitude     -0.125898          0.073290         0.515714   \n",
              "passenger_count       0.015778         -0.013213        -0.012889   \n",
              "hour                 -0.023623          0.011579         0.029681   \n",
              "day                   0.004534         -0.003204        -0.001553   \n",
              "month                 0.030817          0.001169         0.001562   \n",
              "year                  0.141277          0.010198        -0.014243   \n",
              "dayofweek             0.013652         -0.024652        -0.042310   \n",
              "dist_travel_km        0.786385          0.048446        -0.073362   \n",
              "\n",
              "                   dropoff_longitude  dropoff_latitude  passenger_count  \\\n",
              "fare_amount                 0.218675         -0.125898         0.015778   \n",
              "pickup_longitude            0.425619          0.073290        -0.013213   \n",
              "pickup_latitude             0.048889          0.515714        -0.012889   \n",
              "dropoff_longitude           1.000000          0.245667        -0.009303   \n",
              "dropoff_latitude            0.245667          1.000000        -0.006308   \n",
              "passenger_count            -0.009303         -0.006308         1.000000   \n",
              "hour                       -0.046558          0.019783         0.020274   \n",
              "day                        -0.004007         -0.003479         0.002712   \n",
              "month                       0.002391         -0.001193         0.010351   \n",
              "year                        0.011346         -0.009603        -0.009749   \n",
              "dayofweek                  -0.003336         -0.031919         0.048550   \n",
              "dist_travel_km              0.155191         -0.052701         0.009884   \n",
              "\n",
              "                       hour       day     month      year  dayofweek  \\\n",
              "fare_amount       -0.023623  0.004534  0.030817  0.141277   0.013652   \n",
              "pickup_longitude   0.011579 -0.003204  0.001169  0.010198  -0.024652   \n",
              "pickup_latitude    0.029681 -0.001553  0.001562 -0.014243  -0.042310   \n",
              "dropoff_longitude -0.046558 -0.004007  0.002391  0.011346  -0.003336   \n",
              "dropoff_latitude   0.019783 -0.003479 -0.001193 -0.009603  -0.031919   \n",
              "passenger_count    0.020274  0.002712  0.010351 -0.009749   0.048550   \n",
              "hour               1.000000  0.004677 -0.003926  0.002156  -0.086947   \n",
              "day                0.004677  1.000000 -0.017360 -0.012170   0.005617   \n",
              "month             -0.003926 -0.017360  1.000000 -0.115859  -0.008786   \n",
              "year               0.002156 -0.012170 -0.115859  1.000000   0.006113   \n",
              "dayofweek         -0.086947  0.005617 -0.008786  0.006113   1.000000   \n",
              "dist_travel_km    -0.035708  0.001709  0.010050  0.022294   0.030382   \n",
              "\n",
              "                   dist_travel_km  \n",
              "fare_amount              0.786385  \n",
              "pickup_longitude         0.048446  \n",
              "pickup_latitude         -0.073362  \n",
              "dropoff_longitude        0.155191  \n",
              "dropoff_latitude        -0.052701  \n",
              "passenger_count          0.009884  \n",
              "hour                    -0.035708  \n",
              "day                      0.001709  \n",
              "month                    0.010050  \n",
              "year                     0.022294  \n",
              "dayofweek                0.030382  \n",
              "dist_travel_km           1.000000  "
            ],
            "text/html": [
              "\n",
              "  <div id=\"df-93896265-3162-44f5-b6f3-981ff1597a59\">\n",
              "    <div class=\"colab-df-container\">\n",
              "      <div>\n",
              "<style scoped>\n",
              "    .dataframe tbody tr th:only-of-type {\n",
              "        vertical-align: middle;\n",
              "    }\n",
              "\n",
              "    .dataframe tbody tr th {\n",
              "        vertical-align: top;\n",
              "    }\n",
              "\n",
              "    .dataframe thead th {\n",
              "        text-align: right;\n",
              "    }\n",
              "</style>\n",
              "<table border=\"1\" class=\"dataframe\">\n",
              "  <thead>\n",
              "    <tr style=\"text-align: right;\">\n",
              "      <th></th>\n",
              "      <th>fare_amount</th>\n",
              "      <th>pickup_longitude</th>\n",
              "      <th>pickup_latitude</th>\n",
              "      <th>dropoff_longitude</th>\n",
              "      <th>dropoff_latitude</th>\n",
              "      <th>passenger_count</th>\n",
              "      <th>hour</th>\n",
              "      <th>day</th>\n",
              "      <th>month</th>\n",
              "      <th>year</th>\n",
              "      <th>dayofweek</th>\n",
              "      <th>dist_travel_km</th>\n",
              "    </tr>\n",
              "  </thead>\n",
              "  <tbody>\n",
              "    <tr>\n",
              "      <th>fare_amount</th>\n",
              "      <td>1.000000</td>\n",
              "      <td>0.154069</td>\n",
              "      <td>-0.110842</td>\n",
              "      <td>0.218675</td>\n",
              "      <td>-0.125898</td>\n",
              "      <td>0.015778</td>\n",
              "      <td>-0.023623</td>\n",
              "      <td>0.004534</td>\n",
              "      <td>0.030817</td>\n",
              "      <td>0.141277</td>\n",
              "      <td>0.013652</td>\n",
              "      <td>0.786385</td>\n",
              "    </tr>\n",
              "    <tr>\n",
              "      <th>pickup_longitude</th>\n",
              "      <td>0.154069</td>\n",
              "      <td>1.000000</td>\n",
              "      <td>0.259497</td>\n",
              "      <td>0.425619</td>\n",
              "      <td>0.073290</td>\n",
              "      <td>-0.013213</td>\n",
              "      <td>0.011579</td>\n",
              "      <td>-0.003204</td>\n",
              "      <td>0.001169</td>\n",
              "      <td>0.010198</td>\n",
              "      <td>-0.024652</td>\n",
              "      <td>0.048446</td>\n",
              "    </tr>\n",
              "    <tr>\n",
              "      <th>pickup_latitude</th>\n",
              "      <td>-0.110842</td>\n",
              "      <td>0.259497</td>\n",
              "      <td>1.000000</td>\n",
              "      <td>0.048889</td>\n",
              "      <td>0.515714</td>\n",
              "      <td>-0.012889</td>\n",
              "      <td>0.029681</td>\n",
              "      <td>-0.001553</td>\n",
              "      <td>0.001562</td>\n",
              "      <td>-0.014243</td>\n",
              "      <td>-0.042310</td>\n",
              "      <td>-0.073362</td>\n",
              "    </tr>\n",
              "    <tr>\n",
              "      <th>dropoff_longitude</th>\n",
              "      <td>0.218675</td>\n",
              "      <td>0.425619</td>\n",
              "      <td>0.048889</td>\n",
              "      <td>1.000000</td>\n",
              "      <td>0.245667</td>\n",
              "      <td>-0.009303</td>\n",
              "      <td>-0.046558</td>\n",
              "      <td>-0.004007</td>\n",
              "      <td>0.002391</td>\n",
              "      <td>0.011346</td>\n",
              "      <td>-0.003336</td>\n",
              "      <td>0.155191</td>\n",
              "    </tr>\n",
              "    <tr>\n",
              "      <th>dropoff_latitude</th>\n",
              "      <td>-0.125898</td>\n",
              "      <td>0.073290</td>\n",
              "      <td>0.515714</td>\n",
              "      <td>0.245667</td>\n",
              "      <td>1.000000</td>\n",
              "      <td>-0.006308</td>\n",
              "      <td>0.019783</td>\n",
              "      <td>-0.003479</td>\n",
              "      <td>-0.001193</td>\n",
              "      <td>-0.009603</td>\n",
              "      <td>-0.031919</td>\n",
              "      <td>-0.052701</td>\n",
              "    </tr>\n",
              "    <tr>\n",
              "      <th>passenger_count</th>\n",
              "      <td>0.015778</td>\n",
              "      <td>-0.013213</td>\n",
              "      <td>-0.012889</td>\n",
              "      <td>-0.009303</td>\n",
              "      <td>-0.006308</td>\n",
              "      <td>1.000000</td>\n",
              "      <td>0.020274</td>\n",
              "      <td>0.002712</td>\n",
              "      <td>0.010351</td>\n",
              "      <td>-0.009749</td>\n",
              "      <td>0.048550</td>\n",
              "      <td>0.009884</td>\n",
              "    </tr>\n",
              "    <tr>\n",
              "      <th>hour</th>\n",
              "      <td>-0.023623</td>\n",
              "      <td>0.011579</td>\n",
              "      <td>0.029681</td>\n",
              "      <td>-0.046558</td>\n",
              "      <td>0.019783</td>\n",
              "      <td>0.020274</td>\n",
              "      <td>1.000000</td>\n",
              "      <td>0.004677</td>\n",
              "      <td>-0.003926</td>\n",
              "      <td>0.002156</td>\n",
              "      <td>-0.086947</td>\n",
              "      <td>-0.035708</td>\n",
              "    </tr>\n",
              "    <tr>\n",
              "      <th>day</th>\n",
              "      <td>0.004534</td>\n",
              "      <td>-0.003204</td>\n",
              "      <td>-0.001553</td>\n",
              "      <td>-0.004007</td>\n",
              "      <td>-0.003479</td>\n",
              "      <td>0.002712</td>\n",
              "      <td>0.004677</td>\n",
              "      <td>1.000000</td>\n",
              "      <td>-0.017360</td>\n",
              "      <td>-0.012170</td>\n",
              "      <td>0.005617</td>\n",
              "      <td>0.001709</td>\n",
              "    </tr>\n",
              "    <tr>\n",
              "      <th>month</th>\n",
              "      <td>0.030817</td>\n",
              "      <td>0.001169</td>\n",
              "      <td>0.001562</td>\n",
              "      <td>0.002391</td>\n",
              "      <td>-0.001193</td>\n",
              "      <td>0.010351</td>\n",
              "      <td>-0.003926</td>\n",
              "      <td>-0.017360</td>\n",
              "      <td>1.000000</td>\n",
              "      <td>-0.115859</td>\n",
              "      <td>-0.008786</td>\n",
              "      <td>0.010050</td>\n",
              "    </tr>\n",
              "    <tr>\n",
              "      <th>year</th>\n",
              "      <td>0.141277</td>\n",
              "      <td>0.010198</td>\n",
              "      <td>-0.014243</td>\n",
              "      <td>0.011346</td>\n",
              "      <td>-0.009603</td>\n",
              "      <td>-0.009749</td>\n",
              "      <td>0.002156</td>\n",
              "      <td>-0.012170</td>\n",
              "      <td>-0.115859</td>\n",
              "      <td>1.000000</td>\n",
              "      <td>0.006113</td>\n",
              "      <td>0.022294</td>\n",
              "    </tr>\n",
              "    <tr>\n",
              "      <th>dayofweek</th>\n",
              "      <td>0.013652</td>\n",
              "      <td>-0.024652</td>\n",
              "      <td>-0.042310</td>\n",
              "      <td>-0.003336</td>\n",
              "      <td>-0.031919</td>\n",
              "      <td>0.048550</td>\n",
              "      <td>-0.086947</td>\n",
              "      <td>0.005617</td>\n",
              "      <td>-0.008786</td>\n",
              "      <td>0.006113</td>\n",
              "      <td>1.000000</td>\n",
              "      <td>0.030382</td>\n",
              "    </tr>\n",
              "    <tr>\n",
              "      <th>dist_travel_km</th>\n",
              "      <td>0.786385</td>\n",
              "      <td>0.048446</td>\n",
              "      <td>-0.073362</td>\n",
              "      <td>0.155191</td>\n",
              "      <td>-0.052701</td>\n",
              "      <td>0.009884</td>\n",
              "      <td>-0.035708</td>\n",
              "      <td>0.001709</td>\n",
              "      <td>0.010050</td>\n",
              "      <td>0.022294</td>\n",
              "      <td>0.030382</td>\n",
              "      <td>1.000000</td>\n",
              "    </tr>\n",
              "  </tbody>\n",
              "</table>\n",
              "</div>\n",
              "      <button class=\"colab-df-convert\" onclick=\"convertToInteractive('df-93896265-3162-44f5-b6f3-981ff1597a59')\"\n",
              "              title=\"Convert this dataframe to an interactive table.\"\n",
              "              style=\"display:none;\">\n",
              "        \n",
              "  <svg xmlns=\"http://www.w3.org/2000/svg\" height=\"24px\"viewBox=\"0 0 24 24\"\n",
              "       width=\"24px\">\n",
              "    <path d=\"M0 0h24v24H0V0z\" fill=\"none\"/>\n",
              "    <path d=\"M18.56 5.44l.94 2.06.94-2.06 2.06-.94-2.06-.94-.94-2.06-.94 2.06-2.06.94zm-11 1L8.5 8.5l.94-2.06 2.06-.94-2.06-.94L8.5 2.5l-.94 2.06-2.06.94zm10 10l.94 2.06.94-2.06 2.06-.94-2.06-.94-.94-2.06-.94 2.06-2.06.94z\"/><path d=\"M17.41 7.96l-1.37-1.37c-.4-.4-.92-.59-1.43-.59-.52 0-1.04.2-1.43.59L10.3 9.45l-7.72 7.72c-.78.78-.78 2.05 0 2.83L4 21.41c.39.39.9.59 1.41.59.51 0 1.02-.2 1.41-.59l7.78-7.78 2.81-2.81c.8-.78.8-2.07 0-2.86zM5.41 20L4 18.59l7.72-7.72 1.47 1.35L5.41 20z\"/>\n",
              "  </svg>\n",
              "      </button>\n",
              "      \n",
              "  <style>\n",
              "    .colab-df-container {\n",
              "      display:flex;\n",
              "      flex-wrap:wrap;\n",
              "      gap: 12px;\n",
              "    }\n",
              "\n",
              "    .colab-df-convert {\n",
              "      background-color: #E8F0FE;\n",
              "      border: none;\n",
              "      border-radius: 50%;\n",
              "      cursor: pointer;\n",
              "      display: none;\n",
              "      fill: #1967D2;\n",
              "      height: 32px;\n",
              "      padding: 0 0 0 0;\n",
              "      width: 32px;\n",
              "    }\n",
              "\n",
              "    .colab-df-convert:hover {\n",
              "      background-color: #E2EBFA;\n",
              "      box-shadow: 0px 1px 2px rgba(60, 64, 67, 0.3), 0px 1px 3px 1px rgba(60, 64, 67, 0.15);\n",
              "      fill: #174EA6;\n",
              "    }\n",
              "\n",
              "    [theme=dark] .colab-df-convert {\n",
              "      background-color: #3B4455;\n",
              "      fill: #D2E3FC;\n",
              "    }\n",
              "\n",
              "    [theme=dark] .colab-df-convert:hover {\n",
              "      background-color: #434B5C;\n",
              "      box-shadow: 0px 1px 3px 1px rgba(0, 0, 0, 0.15);\n",
              "      filter: drop-shadow(0px 1px 2px rgba(0, 0, 0, 0.3));\n",
              "      fill: #FFFFFF;\n",
              "    }\n",
              "  </style>\n",
              "\n",
              "      <script>\n",
              "        const buttonEl =\n",
              "          document.querySelector('#df-93896265-3162-44f5-b6f3-981ff1597a59 button.colab-df-convert');\n",
              "        buttonEl.style.display =\n",
              "          google.colab.kernel.accessAllowed ? 'block' : 'none';\n",
              "\n",
              "        async function convertToInteractive(key) {\n",
              "          const element = document.querySelector('#df-93896265-3162-44f5-b6f3-981ff1597a59');\n",
              "          const dataTable =\n",
              "            await google.colab.kernel.invokeFunction('convertToInteractive',\n",
              "                                                     [key], {});\n",
              "          if (!dataTable) return;\n",
              "\n",
              "          const docLinkHtml = 'Like what you see? Visit the ' +\n",
              "            '<a target=\"_blank\" href=https://colab.research.google.com/notebooks/data_table.ipynb>data table notebook</a>'\n",
              "            + ' to learn more about interactive tables.';\n",
              "          element.innerHTML = '';\n",
              "          dataTable['output_type'] = 'display_data';\n",
              "          await google.colab.output.renderOutput(dataTable, element);\n",
              "          const docLink = document.createElement('div');\n",
              "          docLink.innerHTML = docLinkHtml;\n",
              "          element.appendChild(docLink);\n",
              "        }\n",
              "      </script>\n",
              "    </div>\n",
              "  </div>\n",
              "  "
            ]
          },
          "metadata": {},
          "execution_count": 41
        }
      ]
    },
    {
      "cell_type": "code",
      "source": [
        "sns.heatmap(df.corr(),annot = True)#Correlation Heatmap (Light values means highly correlated)"
      ],
      "metadata": {
        "colab": {
          "base_uri": "https://localhost:8080/",
          "height": 364
        },
        "id": "c3RylyaUIdQJ",
        "outputId": "d7a2ac5b-983b-4554-c0f5-e9a431428f35"
      },
      "execution_count": null,
      "outputs": [
        {
          "output_type": "execute_result",
          "data": {
            "text/plain": [
              "<matplotlib.axes._subplots.AxesSubplot at 0x7f2fcc4af3d0>"
            ]
          },
          "metadata": {},
          "execution_count": 43
        },
        {
          "output_type": "display_data",
          "data": {
            "text/plain": [
              "<Figure size 432x288 with 2 Axes>"
            ],
            "image/png": "[encoded data removed]"
          },
          "metadata": {
            "needs_background": "light"
          }
        }
      ]
    },
    {
      "cell_type": "code",
      "source": [
        "#DIVIDING DATASET INTO FEATURE AND TARGET VALUES"
      ],
      "metadata": {
        "id": "EaDFvSWpWSjt"
      },
      "execution_count": null,
      "outputs": []
    },
    {
      "cell_type": "code",
      "source": [
        "x = df[['pickup_longitude','pickup_latitude','dropoff_longitude','dropoff_latitude','passenger_count','hour','day','month','year','dayofweek','dist_travel_km']]"
      ],
      "metadata": {
        "id": "K-wEjcJEIeIZ"
      },
      "execution_count": null,
      "outputs": []
    },
    {
      "cell_type": "code",
      "source": [
        "y = df['fare_amount']"
      ],
      "metadata": {
        "id": "NgJhzCcsWiKV"
      },
      "execution_count": null,
      "outputs": []
    },
    {
      "cell_type": "code",
      "source": [
        "DIVIDING THE DATSET INTO TRAINING AND TESTING DATASET"
      ],
      "metadata": {
        "id": "_YoEsKEBWkdt"
      },
      "execution_count": null,
      "outputs": []
    },
    {
      "cell_type": "code",
      "source": [
        "from sklearn.model_selection import train_test_split\n",
        "X_train,X_test,y_train,y_test = train_test_split(x,y,test_size = 0.33)"
      ],
      "metadata": {
        "id": "afGzw6ZrIhf6"
      },
      "execution_count": null,
      "outputs": []
    },
    {
      "cell_type": "code",
      "source": [
        "#LINEAR REGRESSION"
      ],
      "metadata": {
        "id": "J_3z5BJeWyc_"
      },
      "execution_count": null,
      "outputs": []
    },
    {
      "cell_type": "code",
      "source": [
        "from sklearn.linear_model import LinearRegression\n",
        "regression = LinearRegression()"
      ],
      "metadata": {
        "id": "A1pfmotoIiKR"
      },
      "execution_count": null,
      "outputs": []
    },
    {
      "cell_type": "code",
      "source": [
        "regression.fit(X_train,y_train)"
      ],
      "metadata": {
        "colab": {
          "base_uri": "https://localhost:8080/"
        },
        "id": "C9A2c1bFIjqn",
        "outputId": "ad4d6fc1-804b-4d5f-ab98-55764b5ebe32"
      },
      "execution_count": null,
      "outputs": [
        {
          "output_type": "execute_result",
          "data": {
            "text/plain": [
              "LinearRegression()"
            ]
          },
          "metadata": {},
          "execution_count": 51
        }
      ]
    },
    {
      "cell_type": "code",
      "source": [
        "regression.intercept_ #To find the linear intercept"
      ],
      "metadata": {
        "colab": {
          "base_uri": "https://localhost:8080/"
        },
        "id": "RgZV4XZyXAZ8",
        "outputId": "0d27857e-238f-4239-80b8-e4911555abe7"
      },
      "execution_count": null,
      "outputs": [
        {
          "output_type": "execute_result",
          "data": {
            "text/plain": [
              "3631.6613342196047"
            ]
          },
          "metadata": {},
          "execution_count": 52
        }
      ]
    },
    {
      "cell_type": "code",
      "source": [
        "regression.coef_ #To find the linear coeeficient"
      ],
      "metadata": {
        "colab": {
          "base_uri": "https://localhost:8080/"
        },
        "id": "jqfPuamfXFdJ",
        "outputId": "9733b307-7d7f-4172-a304-1827ce6e0434"
      },
      "execution_count": null,
      "outputs": [
        {
          "output_type": "execute_result",
          "data": {
            "text/plain": [
              "array([ 2.48318167e+01, -6.62036736e+00,  2.04256167e+01, -1.83988953e+01,\n",
              "        6.39592123e-02,  5.55765460e-03,  3.55459728e-03,  5.72638914e-02,\n",
              "        3.68010543e-01, -3.18877810e-02,  1.84152036e+00])"
            ]
          },
          "metadata": {},
          "execution_count": 53
        }
      ]
    },
    {
      "cell_type": "code",
      "source": [
        "prediction = regression.predict(X_test) #To predict the target values"
      ],
      "metadata": {
        "id": "D4OY5tTjXJs2"
      },
      "execution_count": null,
      "outputs": []
    },
    {
      "cell_type": "code",
      "source": [
        "print(prediction)"
      ],
      "metadata": {
        "colab": {
          "base_uri": "https://localhost:8080/"
        },
        "id": "xaYg-KN2XL7p",
        "outputId": "94c94f38-f3c4-4cfe-e415-85ad8d2d0498"
      },
      "execution_count": null,
      "outputs": [
        {
          "output_type": "stream",
          "name": "stdout",
          "text": [
            "[ 9.80928617  8.57992229  6.00251651 ... 11.80414708  6.33417886\n",
            " 18.62394336]\n"
          ]
        }
      ]
    },
    {
      "cell_type": "code",
      "source": [
        "y_test"
      ],
      "metadata": {
        "colab": {
          "base_uri": "https://localhost:8080/"
        },
        "id": "vdS_eLT1XOdR",
        "outputId": "d14c0654-ccc4-4fac-d3bc-de495c080f14"
      },
      "execution_count": null,
      "outputs": [
        {
          "output_type": "execute_result",
          "data": {
            "text/plain": [
              "143380    13.00\n",
              "159923     7.70\n",
              "144988     4.90\n",
              "178381     8.50\n",
              "191984     6.50\n",
              "          ...  \n",
              "150719     7.00\n",
              "4190      15.50\n",
              "81435      8.10\n",
              "129808     3.70\n",
              "78998     22.25\n",
              "Name: fare_amount, Length: 66000, dtype: float64"
            ]
          },
          "metadata": {},
          "execution_count": 56
        }
      ]
    },
    {
      "cell_type": "code",
      "source": [
        "#METRICS EVALUATION USING R2,MEAN SQUARED ERROE,ROOT MEAN,SQUARED ERROR"
      ],
      "metadata": {
        "id": "9hTGpZw6XQ9l"
      },
      "execution_count": null,
      "outputs": []
    },
    {
      "cell_type": "code",
      "source": [
        "from sklearn.metrics import r2_score "
      ],
      "metadata": {
        "id": "e0tvkSHBXdhZ"
      },
      "execution_count": null,
      "outputs": []
    },
    {
      "cell_type": "code",
      "source": [
        "r2_score(y_test,prediction)"
      ],
      "metadata": {
        "colab": {
          "base_uri": "https://localhost:8080/"
        },
        "id": "jgdb1RsLXiEa",
        "outputId": "1d63d9a0-6680-4ed5-b7df-ecc8785c74cf"
      },
      "execution_count": null,
      "outputs": [
        {
          "output_type": "execute_result",
          "data": {
            "text/plain": [
              "0.6644976463744672"
            ]
          },
          "metadata": {},
          "execution_count": 59
        }
      ]
    },
    {
      "cell_type": "code",
      "source": [
        "from sklearn.metrics import mean_squared_error"
      ],
      "metadata": {
        "id": "M7B0X31dXpk9"
      },
      "execution_count": null,
      "outputs": []
    },
    {
      "cell_type": "code",
      "source": [
        "MSE = mean_squared_error(y_test,prediction)"
      ],
      "metadata": {
        "id": "6AEk2YE0XsPm"
      },
      "execution_count": null,
      "outputs": []
    },
    {
      "cell_type": "code",
      "source": [
        "MSE "
      ],
      "metadata": {
        "colab": {
          "base_uri": "https://localhost:8080/"
        },
        "id": "9o-ZkujUXu0g",
        "outputId": "26f547f4-9ebd-4ef6-9fc4-61cecc7f4c8b"
      },
      "execution_count": null,
      "outputs": [
        {
          "output_type": "execute_result",
          "data": {
            "text/plain": [
              "9.917933122146987"
            ]
          },
          "metadata": {},
          "execution_count": 62
        }
      ]
    },
    {
      "cell_type": "code",
      "source": [
        "RMSE = np.sqrt(MSE)"
      ],
      "metadata": {
        "id": "igPEI1NGXw4S"
      },
      "execution_count": null,
      "outputs": []
    },
    {
      "cell_type": "code",
      "source": [
        "RMSE"
      ],
      "metadata": {
        "colab": {
          "base_uri": "https://localhost:8080/"
        },
        "id": "CMHa5R8ZXzpr",
        "outputId": "0a7c4d1e-d1c5-4d46-8b0a-11155ba999d6"
      },
      "execution_count": null,
      "outputs": [
        {
          "output_type": "execute_result",
          "data": {
            "text/plain": [
              "3.1492750153244775"
            ]
          },
          "metadata": {},
          "execution_count": 64
        }
      ]
    },
    {
      "cell_type": "code",
      "source": [
        "#RANDOM FOREST REGRESSION"
      ],
      "metadata": {
        "id": "mlzDqJaZX10i"
      },
      "execution_count": null,
      "outputs": []
    },
    {
      "cell_type": "code",
      "source": [
        "from sklearn.ensemble import RandomForestRegressor"
      ],
      "metadata": {
        "id": "iork-KlyX5vS"
      },
      "execution_count": null,
      "outputs": []
    },
    {
      "cell_type": "code",
      "source": [
        "rf = RandomForestRegressor(n_estimators=100) #Here n_estimators means number of trees you want to build before making the prediction"
      ],
      "metadata": {
        "id": "mNYujiluX9Bl"
      },
      "execution_count": null,
      "outputs": []
    },
    {
      "cell_type": "code",
      "source": [
        "y_pred = rf.predict(X_test)"
      ],
      "metadata": {
        "colab": {
          "base_uri": "https://localhost:8080/"
        },
        "id": "8f1p_XKxX_7A",
        "outputId": "3dc7b956-5503-485e-bb92-10d3149a6790"
      },
      "execution_count": null,
      "outputs": [
        {
          "output_type": "stream",
          "name": "stderr",
          "text": [
            "/usr/local/lib/python3.7/dist-packages/sklearn/ensemble/_forest.py:993: RuntimeWarning: invalid value encountered in true_divide\n",
            "  y_hat /= len(self.estimators_)\n"
          ]
        }
      ]
    },
    {
      "cell_type": "code",
      "source": [
        "y_pred"
      ],
      "metadata": {
        "colab": {
          "base_uri": "https://localhost:8080/"
        },
        "id": "CKd-d8rmYTlM",
        "outputId": "f9908abb-9bb5-4246-aedc-25800f1778be"
      },
      "execution_count": null,
      "outputs": [
        {
          "output_type": "execute_result",
          "data": {
            "text/plain": [
              "array([nan, nan, nan, ..., nan, nan, nan])"
            ]
          },
          "metadata": {},
          "execution_count": 69
        }
      ]
    },
    {
      "cell_type": "code",
      "source": [
        "R2_Random = r2_score(y_test,y_pred)"
      ],
      "metadata": {
        "id": "bv1Ah48Hzfh5"
      },
      "execution_count": null,
      "outputs": []
    },
    {
      "cell_type": "code",
      "source": [
        "regression = LinearRegression()\n",
        "regression.fit(X_train,y_train)\n",
        "regression.coef_ #To find the linear coeeficient\n",
        "regression.intercept_ #To find the linear intercept\n",
        "prediction = regression.predict(X_test) #To predict the target values\n",
        "print(prediction)\n",
        "y_test"
      ],
      "metadata": {
        "id": "hPGbYavzIj4n"
      },
      "execution_count": null,
      "outputs": []
    },
    {
      "cell_type": "code",
      "source": [
        "from sklearn.metrics import r2_"
      ],
      "metadata": {
        "id": "yM85s34sIrd_"
      },
      "execution_count": null,
      "outputs": []
    }
  ]
}